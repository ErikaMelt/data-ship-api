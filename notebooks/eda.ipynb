{
 "cells": [
  {
   "cell_type": "markdown",
   "metadata": {},
   "source": [
    "<h1 style=\"font-family: Impact, Charcoal, sans-serif; padding: 12px; font-size: 30px; color: #8b4513; text-align: center; line-height: 1.25;\">EXPAI Tecnical Test<br><span style=\"color: #800000; font-size: 48px\"><b>Titanic Survival and Fare Predictions</b></span><br><span style=\"color: #a0522d; font-size: 20px\">Binary Classification and Logistic Regression</span></h1>\n",
    "\n",
    "<div style=\"display: flex; justify-content: center;\">\n",
    "  <img src=\"../data/titanic.jpg\" alt=\"Titanic\"  style=\"width:200px;\">\n",
    "</div>\n",
    "\n",
    "<p>Data source: <a href=\"https://www.kaggle.com/competitions/titanic/data\">Titanic Dataset</a></p>\n"
   ]
  },
  {
   "cell_type": "markdown",
   "metadata": {},
   "source": [
    "<h1><b><span style=\"color: #8b4513; font-size: 28px\">TABLE OF CONTENTS</span></b></h1>\n",
    "\n",
    "* [Exploratory Data Analysis (EDA)](#1)\n",
    "* [Survived Distribution: Analysis of the Target Variable](#2)\n",
    "* [Titanic Survival Analysis: Exploring Factors Influencing Passenger Survival](#3)\n",
    "* [Correlation Matrix: Relationships Between Features](#4)"
   ]
  },
  {
   "cell_type": "code",
   "execution_count": 1,
   "metadata": {},
   "outputs": [],
   "source": [
    "import pandas as pd\n",
    "import seaborn as sns \n",
    "import matplotlib.pyplot as plt\n",
    "from utils import DataAnalyzer"
   ]
  },
  {
   "cell_type": "code",
   "execution_count": 2,
   "metadata": {},
   "outputs": [],
   "source": [
    "sns.set(style=\"whitegrid\")\n",
    "plt.rcParams['figure.figsize'] = (10, 6)\n",
    "plt.rcParams['font.size'] = 12\n",
    "plt.rcParams['axes.titleweight'] = 'bold'\n",
    "sns.set_palette('muted')"
   ]
  },
  {
   "cell_type": "markdown",
   "metadata": {},
   "source": [
    "## <a id=\"1\"></a>\n",
    "<h1 style=\"font-family: Trebuchet MS; font-size: 24px; color: #8b4513; text-align: left; \"><b>Exploratory Data Analysis (EDA)</b></h1>"
   ]
  },
  {
   "cell_type": "code",
   "execution_count": 3,
   "metadata": {},
   "outputs": [
    {
     "data": {
      "text/html": [
       "<div>\n",
       "<style scoped>\n",
       "    .dataframe tbody tr th:only-of-type {\n",
       "        vertical-align: middle;\n",
       "    }\n",
       "\n",
       "    .dataframe tbody tr th {\n",
       "        vertical-align: top;\n",
       "    }\n",
       "\n",
       "    .dataframe thead th {\n",
       "        text-align: right;\n",
       "    }\n",
       "</style>\n",
       "<table border=\"1\" class=\"dataframe\">\n",
       "  <thead>\n",
       "    <tr style=\"text-align: right;\">\n",
       "      <th></th>\n",
       "      <th>passengerid</th>\n",
       "      <th>survived</th>\n",
       "      <th>pclass</th>\n",
       "      <th>name</th>\n",
       "      <th>sex</th>\n",
       "      <th>age</th>\n",
       "      <th>sibsp</th>\n",
       "      <th>parch</th>\n",
       "      <th>ticket</th>\n",
       "      <th>fare</th>\n",
       "      <th>cabin</th>\n",
       "      <th>embarked</th>\n",
       "    </tr>\n",
       "  </thead>\n",
       "  <tbody>\n",
       "    <tr>\n",
       "      <th>0</th>\n",
       "      <td>1</td>\n",
       "      <td>0</td>\n",
       "      <td>3</td>\n",
       "      <td>braund, mr. owen harris</td>\n",
       "      <td>male</td>\n",
       "      <td>22.0</td>\n",
       "      <td>1</td>\n",
       "      <td>0</td>\n",
       "      <td>a/5 21171</td>\n",
       "      <td>7.2500</td>\n",
       "      <td>NaN</td>\n",
       "      <td>s</td>\n",
       "    </tr>\n",
       "    <tr>\n",
       "      <th>1</th>\n",
       "      <td>2</td>\n",
       "      <td>1</td>\n",
       "      <td>1</td>\n",
       "      <td>cumings, mrs. john bradley (florence briggs th...</td>\n",
       "      <td>female</td>\n",
       "      <td>38.0</td>\n",
       "      <td>1</td>\n",
       "      <td>0</td>\n",
       "      <td>pc 17599</td>\n",
       "      <td>71.2833</td>\n",
       "      <td>c85</td>\n",
       "      <td>c</td>\n",
       "    </tr>\n",
       "    <tr>\n",
       "      <th>2</th>\n",
       "      <td>3</td>\n",
       "      <td>1</td>\n",
       "      <td>3</td>\n",
       "      <td>heikkinen, miss. laina</td>\n",
       "      <td>female</td>\n",
       "      <td>26.0</td>\n",
       "      <td>0</td>\n",
       "      <td>0</td>\n",
       "      <td>ston/o2. 3101282</td>\n",
       "      <td>7.9250</td>\n",
       "      <td>NaN</td>\n",
       "      <td>s</td>\n",
       "    </tr>\n",
       "    <tr>\n",
       "      <th>3</th>\n",
       "      <td>4</td>\n",
       "      <td>1</td>\n",
       "      <td>1</td>\n",
       "      <td>futrelle, mrs. jacques heath (lily may peel)</td>\n",
       "      <td>female</td>\n",
       "      <td>35.0</td>\n",
       "      <td>1</td>\n",
       "      <td>0</td>\n",
       "      <td>113803</td>\n",
       "      <td>53.1000</td>\n",
       "      <td>c123</td>\n",
       "      <td>s</td>\n",
       "    </tr>\n",
       "    <tr>\n",
       "      <th>4</th>\n",
       "      <td>5</td>\n",
       "      <td>0</td>\n",
       "      <td>3</td>\n",
       "      <td>allen, mr. william henry</td>\n",
       "      <td>male</td>\n",
       "      <td>35.0</td>\n",
       "      <td>0</td>\n",
       "      <td>0</td>\n",
       "      <td>373450</td>\n",
       "      <td>8.0500</td>\n",
       "      <td>NaN</td>\n",
       "      <td>s</td>\n",
       "    </tr>\n",
       "  </tbody>\n",
       "</table>\n",
       "</div>"
      ],
      "text/plain": [
       "   passengerid  survived  pclass  \\\n",
       "0            1         0       3   \n",
       "1            2         1       1   \n",
       "2            3         1       3   \n",
       "3            4         1       1   \n",
       "4            5         0       3   \n",
       "\n",
       "                                                name     sex   age  sibsp  \\\n",
       "0                            braund, mr. owen harris    male  22.0      1   \n",
       "1  cumings, mrs. john bradley (florence briggs th...  female  38.0      1   \n",
       "2                             heikkinen, miss. laina  female  26.0      0   \n",
       "3       futrelle, mrs. jacques heath (lily may peel)  female  35.0      1   \n",
       "4                           allen, mr. william henry    male  35.0      0   \n",
       "\n",
       "   parch            ticket     fare cabin embarked  \n",
       "0      0         a/5 21171   7.2500   NaN        s  \n",
       "1      0          pc 17599  71.2833   c85        c  \n",
       "2      0  ston/o2. 3101282   7.9250   NaN        s  \n",
       "3      0            113803  53.1000  c123        s  \n",
       "4      0            373450   8.0500   NaN        s  "
      ]
     },
     "execution_count": 3,
     "metadata": {},
     "output_type": "execute_result"
    }
   ],
   "source": [
    "# Load the train and test datasets\n",
    "train_path = '../data/train.csv'\n",
    "test_path = '../data/test.csv'\n",
    "\n",
    "train_df = pd.read_csv(train_path)\n",
    "test_df = pd.read_csv(test_path)\n",
    "\n",
    "train_df.columns = train_df.columns.str.lower()\n",
    "test_df.columns = test_df.columns.str.lower()\n",
    "train_df = train_df.apply(lambda x: x.str.lower() if x.dtype == \"object\" else x)\n",
    "test_df = test_df.apply(lambda x: x.str.lower() if x.dtype == \"object\" else x)\n",
    "\n",
    "train_df.head()"
   ]
  },
  {
   "cell_type": "markdown",
   "metadata": {},
   "source": [
    "<h1 style=\"font-family: Trebuchet MS; font-size: 20px; color: #b47238; text-align: left; \"><b>Features</b></h1>\n",
    "\n",
    "- **survived:** 0 = No, 1 = Yes\n",
    "- **pclass:** A proxy for socio-economic status (SES). \n",
    "1st = Upper\n",
    "2nd = Middle\n",
    "3rd = Lower\n",
    "- **age:** Age is fractional if less than 1. If the age is estimated, is it in the form of xx.5\n",
    "- **sibsp:** # of siblings / spouses aboard the Titanic. \n",
    "- **parch:** # of parents / children aboard the Titanic. Some children travelled only with a nanny, therefore parch=0 for them.\n",
    "- **embarked:** Port of Embarkation\tC = Cherbourg, Q = Queenstown, S = Southampton"
   ]
  },
  {
   "cell_type": "markdown",
   "metadata": {},
   "source": [
    "**Update columns names**\n",
    "\n",
    "To improve the understandability of the column names and make them more self-explanatory, we will rename the columns using more descriptive names. Additionally, we will replace some values in the dataset with the corresponding port names to provide better context. Moreover, for the class names, we will use a mapping to replace the numeric values with more meaningful labels.\n"
   ]
  },
  {
   "cell_type": "code",
   "execution_count": 4,
   "metadata": {},
   "outputs": [],
   "source": [
    "train_df.rename(columns={\n",
    "    'pclass': 'passenger_class',\n",
    "    'sex': 'gender',\n",
    "    'sibsp': 'sibling_spouse_count',\n",
    "    'parch': 'parent_child_count',\n",
    "    'embarked': 'embarked_from',\n",
    "    'fare': 'ticket_fare'\n",
    "}, inplace=True)\n",
    "\n",
    "test_df.rename(columns={\n",
    "    'pclass': 'passenger_class',\n",
    "    'sex': 'gender',\n",
    "    'sibsp': 'sibling_spouse_count',\n",
    "    'parch': 'parent_child_count',\n",
    "    'embarked': 'embarked_from',\n",
    "    'fare': 'ticket_fare'\n",
    "}, inplace=True)\n",
    "\n",
    "# Replace values with port names\n",
    "port_mapping = {'s': 'southampton', 'c': 'cherbourg', 'q': 'queenstown'}\n",
    "train_df['embarked_from'] = train_df['embarked_from'].map(port_mapping)\n",
    "test_df['embarked_from'] = test_df['embarked_from'].map(port_mapping)\n",
    "\n",
    "# Map class names to avoid specific order\n",
    "class_mapping = {1: 'first', 2: 'second', 3: 'third'}\n",
    "train_df['passenger_class'] = train_df['passenger_class'].map(class_mapping)\n",
    "test_df['passenger_class'] = test_df['passenger_class'].map(class_mapping)"
   ]
  },
  {
   "cell_type": "code",
   "execution_count": 5,
   "metadata": {},
   "outputs": [
    {
     "name": "stdout",
     "output_type": "stream",
     "text": [
      "<class 'pandas.core.frame.DataFrame'>\n",
      "RangeIndex: 891 entries, 0 to 890\n",
      "Data columns (total 12 columns):\n",
      " #   Column                Non-Null Count  Dtype  \n",
      "---  ------                --------------  -----  \n",
      " 0   passengerid           891 non-null    int64  \n",
      " 1   survived              891 non-null    int64  \n",
      " 2   passenger_class       891 non-null    object \n",
      " 3   name                  891 non-null    object \n",
      " 4   gender                891 non-null    object \n",
      " 5   age                   714 non-null    float64\n",
      " 6   sibling_spouse_count  891 non-null    int64  \n",
      " 7   parent_child_count    891 non-null    int64  \n",
      " 8   ticket                891 non-null    object \n",
      " 9   ticket_fare           891 non-null    float64\n",
      " 10  cabin                 204 non-null    object \n",
      " 11  embarked_from         889 non-null    object \n",
      "dtypes: float64(2), int64(4), object(6)\n",
      "memory usage: 83.7+ KB\n"
     ]
    }
   ],
   "source": [
    "train_df.info()"
   ]
  },
  {
   "cell_type": "code",
   "execution_count": 6,
   "metadata": {},
   "outputs": [
    {
     "name": "stdout",
     "output_type": "stream",
     "text": [
      "<class 'pandas.core.frame.DataFrame'>\n",
      "RangeIndex: 418 entries, 0 to 417\n",
      "Data columns (total 11 columns):\n",
      " #   Column                Non-Null Count  Dtype  \n",
      "---  ------                --------------  -----  \n",
      " 0   passengerid           418 non-null    int64  \n",
      " 1   passenger_class       418 non-null    object \n",
      " 2   name                  418 non-null    object \n",
      " 3   gender                418 non-null    object \n",
      " 4   age                   332 non-null    float64\n",
      " 5   sibling_spouse_count  418 non-null    int64  \n",
      " 6   parent_child_count    418 non-null    int64  \n",
      " 7   ticket                418 non-null    object \n",
      " 8   ticket_fare           417 non-null    float64\n",
      " 9   cabin                 91 non-null     object \n",
      " 10  embarked_from         418 non-null    object \n",
      "dtypes: float64(2), int64(3), object(6)\n",
      "memory usage: 36.0+ KB\n"
     ]
    }
   ],
   "source": [
    "test_df.info()"
   ]
  },
  {
   "cell_type": "markdown",
   "metadata": {},
   "source": [
    "**Drop column passenger id**"
   ]
  },
  {
   "cell_type": "code",
   "execution_count": 7,
   "metadata": {},
   "outputs": [],
   "source": [
    "column_to_exclude = 'passengerid'\n",
    "train_df.drop('passengerid', inplace=True, axis=1)\n",
    "test_df.drop('passengerid', inplace=True, axis=1)"
   ]
  },
  {
   "cell_type": "code",
   "execution_count": 8,
   "metadata": {},
   "outputs": [
    {
     "data": {
      "text/html": [
       "<div>\n",
       "<style scoped>\n",
       "    .dataframe tbody tr th:only-of-type {\n",
       "        vertical-align: middle;\n",
       "    }\n",
       "\n",
       "    .dataframe tbody tr th {\n",
       "        vertical-align: top;\n",
       "    }\n",
       "\n",
       "    .dataframe thead th {\n",
       "        text-align: right;\n",
       "    }\n",
       "</style>\n",
       "<table border=\"1\" class=\"dataframe\">\n",
       "  <thead>\n",
       "    <tr style=\"text-align: right;\">\n",
       "      <th></th>\n",
       "      <th>survived</th>\n",
       "      <th>age</th>\n",
       "      <th>sibling_spouse_count</th>\n",
       "      <th>parent_child_count</th>\n",
       "      <th>ticket_fare</th>\n",
       "    </tr>\n",
       "  </thead>\n",
       "  <tbody>\n",
       "    <tr>\n",
       "      <th>count</th>\n",
       "      <td>891.000000</td>\n",
       "      <td>714.000000</td>\n",
       "      <td>891.000000</td>\n",
       "      <td>891.000000</td>\n",
       "      <td>891.000000</td>\n",
       "    </tr>\n",
       "    <tr>\n",
       "      <th>mean</th>\n",
       "      <td>0.383838</td>\n",
       "      <td>29.699118</td>\n",
       "      <td>0.523008</td>\n",
       "      <td>0.381594</td>\n",
       "      <td>32.204208</td>\n",
       "    </tr>\n",
       "    <tr>\n",
       "      <th>std</th>\n",
       "      <td>0.486592</td>\n",
       "      <td>14.526497</td>\n",
       "      <td>1.102743</td>\n",
       "      <td>0.806057</td>\n",
       "      <td>49.693429</td>\n",
       "    </tr>\n",
       "    <tr>\n",
       "      <th>min</th>\n",
       "      <td>0.000000</td>\n",
       "      <td>0.420000</td>\n",
       "      <td>0.000000</td>\n",
       "      <td>0.000000</td>\n",
       "      <td>0.000000</td>\n",
       "    </tr>\n",
       "    <tr>\n",
       "      <th>25%</th>\n",
       "      <td>0.000000</td>\n",
       "      <td>20.125000</td>\n",
       "      <td>0.000000</td>\n",
       "      <td>0.000000</td>\n",
       "      <td>7.910400</td>\n",
       "    </tr>\n",
       "    <tr>\n",
       "      <th>50%</th>\n",
       "      <td>0.000000</td>\n",
       "      <td>28.000000</td>\n",
       "      <td>0.000000</td>\n",
       "      <td>0.000000</td>\n",
       "      <td>14.454200</td>\n",
       "    </tr>\n",
       "    <tr>\n",
       "      <th>75%</th>\n",
       "      <td>1.000000</td>\n",
       "      <td>38.000000</td>\n",
       "      <td>1.000000</td>\n",
       "      <td>0.000000</td>\n",
       "      <td>31.000000</td>\n",
       "    </tr>\n",
       "    <tr>\n",
       "      <th>max</th>\n",
       "      <td>1.000000</td>\n",
       "      <td>80.000000</td>\n",
       "      <td>8.000000</td>\n",
       "      <td>6.000000</td>\n",
       "      <td>512.329200</td>\n",
       "    </tr>\n",
       "  </tbody>\n",
       "</table>\n",
       "</div>"
      ],
      "text/plain": [
       "         survived         age  sibling_spouse_count  parent_child_count  \\\n",
       "count  891.000000  714.000000            891.000000          891.000000   \n",
       "mean     0.383838   29.699118              0.523008            0.381594   \n",
       "std      0.486592   14.526497              1.102743            0.806057   \n",
       "min      0.000000    0.420000              0.000000            0.000000   \n",
       "25%      0.000000   20.125000              0.000000            0.000000   \n",
       "50%      0.000000   28.000000              0.000000            0.000000   \n",
       "75%      1.000000   38.000000              1.000000            0.000000   \n",
       "max      1.000000   80.000000              8.000000            6.000000   \n",
       "\n",
       "       ticket_fare  \n",
       "count   891.000000  \n",
       "mean     32.204208  \n",
       "std      49.693429  \n",
       "min       0.000000  \n",
       "25%       7.910400  \n",
       "50%      14.454200  \n",
       "75%      31.000000  \n",
       "max     512.329200  "
      ]
     },
     "execution_count": 8,
     "metadata": {},
     "output_type": "execute_result"
    }
   ],
   "source": [
    "train_df.describe()"
   ]
  },
  {
   "cell_type": "code",
   "execution_count": 9,
   "metadata": {},
   "outputs": [
    {
     "name": "stdout",
     "output_type": "stream",
     "text": [
      "Train dataset shape: (891, 11)\n"
     ]
    }
   ],
   "source": [
    "print(f'Train dataset shape: {train_df.shape}')"
   ]
  },
  {
   "cell_type": "code",
   "execution_count": 10,
   "metadata": {},
   "outputs": [
    {
     "name": "stdout",
     "output_type": "stream",
     "text": [
      "Test dataset shape: (418, 10)\n"
     ]
    }
   ],
   "source": [
    "print(f'Test dataset shape: {test_df.shape}')"
   ]
  },
  {
   "cell_type": "markdown",
   "metadata": {},
   "source": [
    "<h1 style=\"font-family: Trebuchet MS; font-size: 20px; color: #b47238; text-align: left; \"><b>Check missing values and unique values</b></h1>"
   ]
  },
  {
   "cell_type": "code",
   "execution_count": 11,
   "metadata": {},
   "outputs": [
    {
     "data": {
      "text/html": [
       "<style type=\"text/css\">\n",
       "#T_0cfec_row0_col0 {\n",
       "  background-color: #fd8c3b;\n",
       "  color: #f1f1f1;\n",
       "}\n",
       "#T_0cfec_row0_col1 {\n",
       "  background-color: #fd8e3d;\n",
       "  color: #f1f1f1;\n",
       "}\n",
       "#T_0cfec_row1_col0, #T_0cfec_row1_col1 {\n",
       "  background-color: #fee6ce;\n",
       "  color: #000000;\n",
       "}\n",
       "#T_0cfec_row2_col0, #T_0cfec_row2_col1 {\n",
       "  background-color: #fff5eb;\n",
       "  color: #000000;\n",
       "}\n",
       "</style>\n",
       "<table id=\"T_0cfec_\">\n",
       "  <thead>\n",
       "    <tr>\n",
       "      <th class=\"blank level0\" >&nbsp;</th>\n",
       "      <th class=\"col_heading level0 col0\" >Total Nulos</th>\n",
       "      <th class=\"col_heading level0 col1\" >% Nulos</th>\n",
       "    </tr>\n",
       "  </thead>\n",
       "  <tbody>\n",
       "    <tr>\n",
       "      <th id=\"T_0cfec_level0_row0\" class=\"row_heading level0 row0\" >cabin</th>\n",
       "      <td id=\"T_0cfec_row0_col0\" class=\"data row0 col0\" >687</td>\n",
       "      <td id=\"T_0cfec_row0_col1\" class=\"data row0 col1\" >77.104377</td>\n",
       "    </tr>\n",
       "    <tr>\n",
       "      <th id=\"T_0cfec_level0_row1\" class=\"row_heading level0 row1\" >age</th>\n",
       "      <td id=\"T_0cfec_row1_col0\" class=\"data row1 col0\" >177</td>\n",
       "      <td id=\"T_0cfec_row1_col1\" class=\"data row1 col1\" >19.865320</td>\n",
       "    </tr>\n",
       "    <tr>\n",
       "      <th id=\"T_0cfec_level0_row2\" class=\"row_heading level0 row2\" >embarked_from</th>\n",
       "      <td id=\"T_0cfec_row2_col0\" class=\"data row2 col0\" >2</td>\n",
       "      <td id=\"T_0cfec_row2_col1\" class=\"data row2 col1\" >0.224467</td>\n",
       "    </tr>\n",
       "  </tbody>\n",
       "</table>\n"
      ],
      "text/plain": [
       "<pandas.io.formats.style.Styler at 0x7fabddfa1900>"
      ]
     },
     "metadata": {},
     "output_type": "display_data"
    }
   ],
   "source": [
    "display(DataAnalyzer.get_missing_values(train_df))"
   ]
  },
  {
   "cell_type": "code",
   "execution_count": 12,
   "metadata": {},
   "outputs": [
    {
     "data": {
      "text/html": [
       "<style type=\"text/css\">\n",
       "#T_e8fdb_row0_col0, #T_e8fdb_row0_col1 {\n",
       "  background-color: #fd8c3b;\n",
       "  color: #f1f1f1;\n",
       "}\n",
       "#T_e8fdb_row1_col0, #T_e8fdb_row1_col1 {\n",
       "  background-color: #fee5cc;\n",
       "  color: #000000;\n",
       "}\n",
       "#T_e8fdb_row2_col0, #T_e8fdb_row2_col1 {\n",
       "  background-color: #fff5eb;\n",
       "  color: #000000;\n",
       "}\n",
       "</style>\n",
       "<table id=\"T_e8fdb_\">\n",
       "  <thead>\n",
       "    <tr>\n",
       "      <th class=\"blank level0\" >&nbsp;</th>\n",
       "      <th class=\"col_heading level0 col0\" >Total Nulos</th>\n",
       "      <th class=\"col_heading level0 col1\" >% Nulos</th>\n",
       "    </tr>\n",
       "  </thead>\n",
       "  <tbody>\n",
       "    <tr>\n",
       "      <th id=\"T_e8fdb_level0_row0\" class=\"row_heading level0 row0\" >cabin</th>\n",
       "      <td id=\"T_e8fdb_row0_col0\" class=\"data row0 col0\" >327</td>\n",
       "      <td id=\"T_e8fdb_row0_col1\" class=\"data row0 col1\" >78.229665</td>\n",
       "    </tr>\n",
       "    <tr>\n",
       "      <th id=\"T_e8fdb_level0_row1\" class=\"row_heading level0 row1\" >age</th>\n",
       "      <td id=\"T_e8fdb_row1_col0\" class=\"data row1 col0\" >86</td>\n",
       "      <td id=\"T_e8fdb_row1_col1\" class=\"data row1 col1\" >20.574163</td>\n",
       "    </tr>\n",
       "    <tr>\n",
       "      <th id=\"T_e8fdb_level0_row2\" class=\"row_heading level0 row2\" >ticket_fare</th>\n",
       "      <td id=\"T_e8fdb_row2_col0\" class=\"data row2 col0\" >1</td>\n",
       "      <td id=\"T_e8fdb_row2_col1\" class=\"data row2 col1\" >0.239234</td>\n",
       "    </tr>\n",
       "  </tbody>\n",
       "</table>\n"
      ],
      "text/plain": [
       "<pandas.io.formats.style.Styler at 0x7fabde871f00>"
      ]
     },
     "metadata": {},
     "output_type": "display_data"
    }
   ],
   "source": [
    "display(DataAnalyzer.get_missing_values(test_df))"
   ]
  },
  {
   "cell_type": "code",
   "execution_count": 13,
   "metadata": {},
   "outputs": [
    {
     "name": "stdout",
     "output_type": "stream",
     "text": [
      "Number of unique values in each column of the train dataset: survived                  2\n",
      "passenger_class           3\n",
      "name                    891\n",
      "gender                    2\n",
      "age                      88\n",
      "sibling_spouse_count      7\n",
      "parent_child_count        7\n",
      "ticket                  681\n",
      "ticket_fare             248\n",
      "cabin                   147\n",
      "embarked_from             3\n",
      "dtype: int64\n"
     ]
    }
   ],
   "source": [
    "print(f'Number of unique values in each column of the train dataset: {train_df.nunique()}')"
   ]
  },
  {
   "cell_type": "markdown",
   "metadata": {},
   "source": [
    "## <a id=\"2\"></a>\n",
    "<h1 style=\"font-family: Trebuchet MS; font-size: 24px; color: #8b4513; text-align: left; \"><b>Survived Distribution: Analysis of the Target Variable</b></h1>"
   ]
  },
  {
   "cell_type": "code",
   "execution_count": 14,
   "metadata": {},
   "outputs": [
    {
     "name": "stdout",
     "output_type": "stream",
     "text": [
      "Target variable distribution:\n",
      "0    549\n",
      "1    342\n",
      "Name: survived, dtype: int64\n",
      "Proportion of class 0 (non-survivors): 0.62\n",
      "Proportion of class 1 (survivors): 0.38\n"
     ]
    }
   ],
   "source": [
    "print(f'Target variable distribution:\\n{train_df.survived.value_counts()}')\n",
    "total_instances = train_df['survived'].count()\n",
    "class_0_count = train_df['survived'].value_counts()[0]\n",
    "class_1_count = train_df['survived'].value_counts()[1]\n",
    "\n",
    "proportion_class_0 = class_0_count / total_instances\n",
    "proportion_class_1 = class_1_count / total_instances\n",
    "\n",
    "print(f'Proportion of class 0 (non-survivors): {proportion_class_0:.2f}')\n",
    "print(f'Proportion of class 1 (survivors): {proportion_class_1:.2f}')"
   ]
  },
  {
   "cell_type": "code",
   "execution_count": 15,
   "metadata": {},
   "outputs": [
    {
     "data": {
      "image/png": "[encoded data removed]",
      "text/plain": [
       "<Figure size 1000x600 with 1 Axes>"
      ]
     },
     "metadata": {},
     "output_type": "display_data"
    }
   ],
   "source": [
    "sns.countplot(x='survived', data=train_df, hue=\"survived\")  \n",
    "plt.xlabel('Survived')  \n",
    "plt.ylabel('Count')  \n",
    "plt.title('Passenger Survival Distribution')  \n",
    "plt.legend(labels=['Non-Survived', 'Survived'])\n",
    "plt.show()"
   ]
  },
  {
   "cell_type": "code",
   "execution_count": 16,
   "metadata": {},
   "outputs": [
    {
     "name": "stdout",
     "output_type": "stream",
     "text": [
      "Categorical feature distributions:\n",
      "male      577\n",
      "female    314\n",
      "Name: gender, dtype: int64\n",
      "third     491\n",
      "first     216\n",
      "second    184\n",
      "Name: passenger_class, dtype: int64\n",
      "southampton    644\n",
      "cherbourg      168\n",
      "queenstown      77\n",
      "Name: embarked_from, dtype: int64\n"
     ]
    }
   ],
   "source": [
    "print(\"Categorical feature distributions:\")\n",
    "print(train_df['gender'].value_counts())\n",
    "print(train_df['passenger_class'].value_counts())\n",
    "print(train_df['embarked_from'].value_counts())"
   ]
  },
  {
   "cell_type": "markdown",
   "metadata": {},
   "source": [
    "- The dataset contains a higher number of male passengers compared to females.\n",
    "- There are 216 passengers in the first class, 184 passengers in the second class, and 491 passengers in the third class. This distribution suggests that the majority of passengers aboard the Titanic were from the third class.\n",
    "- The largest proportion of passengers boarded the Titanic at the Southampton port."
   ]
  },
  {
   "cell_type": "code",
   "execution_count": 17,
   "metadata": {},
   "outputs": [
    {
     "name": "stdout",
     "output_type": "stream",
     "text": [
      "Outliers in 'Age':\n"
     ]
    },
    {
     "data": {
      "text/html": [
       "<div>\n",
       "<style scoped>\n",
       "    .dataframe tbody tr th:only-of-type {\n",
       "        vertical-align: middle;\n",
       "    }\n",
       "\n",
       "    .dataframe tbody tr th {\n",
       "        vertical-align: top;\n",
       "    }\n",
       "\n",
       "    .dataframe thead th {\n",
       "        text-align: right;\n",
       "    }\n",
       "</style>\n",
       "<table border=\"1\" class=\"dataframe\">\n",
       "  <thead>\n",
       "    <tr style=\"text-align: right;\">\n",
       "      <th></th>\n",
       "      <th>survived</th>\n",
       "      <th>passenger_class</th>\n",
       "      <th>name</th>\n",
       "      <th>gender</th>\n",
       "      <th>age</th>\n",
       "      <th>sibling_spouse_count</th>\n",
       "      <th>parent_child_count</th>\n",
       "      <th>ticket</th>\n",
       "      <th>ticket_fare</th>\n",
       "      <th>cabin</th>\n",
       "      <th>embarked_from</th>\n",
       "    </tr>\n",
       "  </thead>\n",
       "  <tbody>\n",
       "    <tr>\n",
       "      <th>630</th>\n",
       "      <td>1</td>\n",
       "      <td>first</td>\n",
       "      <td>barkworth, mr. algernon henry wilson</td>\n",
       "      <td>male</td>\n",
       "      <td>80.0</td>\n",
       "      <td>0</td>\n",
       "      <td>0</td>\n",
       "      <td>27042</td>\n",
       "      <td>30.000</td>\n",
       "      <td>a23</td>\n",
       "      <td>southampton</td>\n",
       "    </tr>\n",
       "    <tr>\n",
       "      <th>851</th>\n",
       "      <td>0</td>\n",
       "      <td>third</td>\n",
       "      <td>svensson, mr. johan</td>\n",
       "      <td>male</td>\n",
       "      <td>74.0</td>\n",
       "      <td>0</td>\n",
       "      <td>0</td>\n",
       "      <td>347060</td>\n",
       "      <td>7.775</td>\n",
       "      <td>NaN</td>\n",
       "      <td>southampton</td>\n",
       "    </tr>\n",
       "  </tbody>\n",
       "</table>\n",
       "</div>"
      ],
      "text/plain": [
       "     survived passenger_class                                  name gender  \\\n",
       "630         1           first  barkworth, mr. algernon henry wilson   male   \n",
       "851         0           third                   svensson, mr. johan   male   \n",
       "\n",
       "      age  sibling_spouse_count  parent_child_count  ticket  ticket_fare  \\\n",
       "630  80.0                     0                   0   27042       30.000   \n",
       "851  74.0                     0                   0  347060        7.775   \n",
       "\n",
       "    cabin embarked_from  \n",
       "630   a23   southampton  \n",
       "851   NaN   southampton  "
      ]
     },
     "execution_count": 17,
     "metadata": {},
     "output_type": "execute_result"
    }
   ],
   "source": [
    "print(\"Outliers in 'Age':\")\n",
    "train_df[train_df['age'] > train_df['age'].mean() + 3 * train_df['age'].std()]"
   ]
  },
  {
   "cell_type": "code",
   "execution_count": 18,
   "metadata": {},
   "outputs": [
    {
     "name": "stdout",
     "output_type": "stream",
     "text": [
      "Outliers in 'Fare':\n"
     ]
    },
    {
     "data": {
      "text/html": [
       "<div>\n",
       "<style scoped>\n",
       "    .dataframe tbody tr th:only-of-type {\n",
       "        vertical-align: middle;\n",
       "    }\n",
       "\n",
       "    .dataframe tbody tr th {\n",
       "        vertical-align: top;\n",
       "    }\n",
       "\n",
       "    .dataframe thead th {\n",
       "        text-align: right;\n",
       "    }\n",
       "</style>\n",
       "<table border=\"1\" class=\"dataframe\">\n",
       "  <thead>\n",
       "    <tr style=\"text-align: right;\">\n",
       "      <th></th>\n",
       "      <th>survived</th>\n",
       "      <th>passenger_class</th>\n",
       "      <th>name</th>\n",
       "      <th>gender</th>\n",
       "      <th>age</th>\n",
       "      <th>sibling_spouse_count</th>\n",
       "      <th>parent_child_count</th>\n",
       "      <th>ticket</th>\n",
       "      <th>ticket_fare</th>\n",
       "      <th>cabin</th>\n",
       "      <th>embarked_from</th>\n",
       "    </tr>\n",
       "  </thead>\n",
       "  <tbody>\n",
       "    <tr>\n",
       "      <th>258</th>\n",
       "      <td>1</td>\n",
       "      <td>first</td>\n",
       "      <td>ward, miss. anna</td>\n",
       "      <td>female</td>\n",
       "      <td>35.0</td>\n",
       "      <td>0</td>\n",
       "      <td>0</td>\n",
       "      <td>pc 17755</td>\n",
       "      <td>512.3292</td>\n",
       "      <td>NaN</td>\n",
       "      <td>cherbourg</td>\n",
       "    </tr>\n",
       "    <tr>\n",
       "      <th>679</th>\n",
       "      <td>1</td>\n",
       "      <td>first</td>\n",
       "      <td>cardeza, mr. thomas drake martinez</td>\n",
       "      <td>male</td>\n",
       "      <td>36.0</td>\n",
       "      <td>0</td>\n",
       "      <td>1</td>\n",
       "      <td>pc 17755</td>\n",
       "      <td>512.3292</td>\n",
       "      <td>b51 b53 b55</td>\n",
       "      <td>cherbourg</td>\n",
       "    </tr>\n",
       "    <tr>\n",
       "      <th>737</th>\n",
       "      <td>1</td>\n",
       "      <td>first</td>\n",
       "      <td>lesurer, mr. gustave j</td>\n",
       "      <td>male</td>\n",
       "      <td>35.0</td>\n",
       "      <td>0</td>\n",
       "      <td>0</td>\n",
       "      <td>pc 17755</td>\n",
       "      <td>512.3292</td>\n",
       "      <td>b101</td>\n",
       "      <td>cherbourg</td>\n",
       "    </tr>\n",
       "  </tbody>\n",
       "</table>\n",
       "</div>"
      ],
      "text/plain": [
       "     survived passenger_class                                name  gender  \\\n",
       "258         1           first                    ward, miss. anna  female   \n",
       "679         1           first  cardeza, mr. thomas drake martinez    male   \n",
       "737         1           first              lesurer, mr. gustave j    male   \n",
       "\n",
       "      age  sibling_spouse_count  parent_child_count    ticket  ticket_fare  \\\n",
       "258  35.0                     0                   0  pc 17755     512.3292   \n",
       "679  36.0                     0                   1  pc 17755     512.3292   \n",
       "737  35.0                     0                   0  pc 17755     512.3292   \n",
       "\n",
       "           cabin embarked_from  \n",
       "258          NaN     cherbourg  \n",
       "679  b51 b53 b55     cherbourg  \n",
       "737         b101     cherbourg  "
      ]
     },
     "execution_count": 18,
     "metadata": {},
     "output_type": "execute_result"
    }
   ],
   "source": [
    "print(\"Outliers in 'Fare':\")\n",
    "fare_outliers = train_df[train_df['ticket_fare'] > train_df['ticket_fare'].mean() + 3 * train_df['ticket_fare'].std()]\n",
    "fare_outliers[fare_outliers.ticket_fare>300]"
   ]
  },
  {
   "cell_type": "code",
   "execution_count": 19,
   "metadata": {},
   "outputs": [],
   "source": [
    "sns.set(style=\"ticks\") \n",
    "sns.pairplot(train_df)\n",
    "plt.show()"
   ]
  },
  {
   "cell_type": "markdown",
   "metadata": {},
   "source": [
    "<h1 style=\"font-family: Trebuchet MS; font-size: 20px; color: #b47238; text-align: left; \"><b>Initial Conclusions from Exploratory Data Analysis (EDA):</b></h1>\n",
    "\n",
    "1. The train dataset contains 891 records and 12 columns, meaning it contains information about 891 passengers and various aspects related to them.\n",
    "\n",
    "2. The 'cabin' column has a significant number of missing values, approximately 77% of the data is missing. This could be a challenge for our analysis and modeling since we have limited information about the cabins.\n",
    "\n",
    "3. The 'age' column also has missing values, but the percentage is relatively lower, around 19.8%. We will need to handle these missing values thoughtfully to avoid bias in our analysis.\n",
    "\n",
    "4. The 'embarked' column has only 2 missing values, which is a small proportion of the dataset. We can consider various strategies to deal with these missing values, such as imputation or excluding those rows.\n",
    "\n",
    "5. The target variable is called 'survived', and it indicates whether a passenger survived (1) or not (0). The data is imbalanced with 62% of non-survivors and 38% of survivors. This imbalance might impact our model's performance, and we might need to use techniques like resampling or different evaluation metrics to handle it.\n",
    "\n",
    "6. The mean survival rate is approximately 38.38%, indicating that about 38.38% of the passengers in the dataset survived the Titanic disaster.\n",
    "\n",
    "7. The passengers' ages range from approximately 5 months (0.42 years) to 80 years old, with an average age of around 29.70 years.\n",
    "\n",
    "8. On average, passengers tend to travel with few family members. The 'sibsp' column, representing the number of siblings and spouses aboard, has a mean value of 0.52, and the 'parch' column, representing the number of parents and children aboard, has a mean value of 0.38.\n",
    "\n",
    "9. The average fare paid by passengers is approximately 32.20 units. However, some passengers received complimentary tickets or traveled for free, as indicated by the minimum fare of 0 units. On the other hand, some passengers paid significantly higher fares, with the maximum fare being 512.33 units.\n",
    "\n",
    "***Additional Insights:***\n",
    "\n",
    "10. Three passengers paid the highest fare of 512.33 units and survived the disaster. They were embarked at the port Cherbourg and belonged to the first class. Their ages were between 35 and 36 years old, and interestingly, most of them were traveling alone, except one passenger who had either a parent or child aboard."
   ]
  },
  {
   "cell_type": "markdown",
   "metadata": {},
   "source": [
    "## <a id=\"3\"></a>\n",
    "<h1 style=\"font-family: Trebuchet MS; font-size: 24px; color: #8b4513; text-align: left; \"><b>Titanic Survival Analysis: Exploring Factors Influencing Passenger Survival</b></h1>"
   ]
  },
  {
   "cell_type": "markdown",
   "metadata": {},
   "source": [
    "#### **Survival by Class**\n",
    "   - How does the passenger class (1st, 2nd, or 3rd) influence the survival rate?"
   ]
  },
  {
   "cell_type": "code",
   "execution_count": null,
   "metadata": {},
   "outputs": [],
   "source": [
    "gr_data = DataAnalyzer.calculate_survival_percentage(train_df, 'passenger_class')\n",
    "DataAnalyzer.plot_survival_by_feature(gr_data, 'passenger_class', 'Passenger Class','Percentage of Passengers', 'Percentage of Survival and Non-Survival by Passenger Class' )"
   ]
  },
  {
   "cell_type": "markdown",
   "metadata": {},
   "source": [
    "##### **Based on the analysis of survival rate by passenger class, the following conclusions can be drawn:**\n",
    "\n",
    "1. Passengers in the third class had the lowest survival rate among all three classes, with only 24.2% surviving the disaster. Despite constituting the majority of the passengers onboard, the survival rate is the lowest. \n",
    "\n",
    "2. On the other hand, first-class passengers had a much higher survival rate of 63%. Despite being a minority in terms of population onboard, they had a significantly higher chance of surviving the tragedy.\n",
    "\n",
    "3. The second-class passengers had a survival rate of approximately 47%, which is only slightly higher than their not-survived rate of 52%. Their survival chances were more balanced compared to the other classes.\n",
    "\n",
    "The analysis indicates that belonging to the first class increased the likelihood of survival. This might be attributed to the allocation of resources and priority during the evacuation process, with first-class passengers potentially having easier access to lifeboats and safety measures.\n",
    "\n",
    "Overall, the data suggests a clear correlation between passenger class and survival rate. Passengers in the higher-class cabins, specifically the first class, had a significantly better chance of surviving the Titanic disaster compared to those in the lower-class cabins. This could be due to various factors, including location of the cabins, access to lifeboats, and preferential treatment during evacuation that will be analyzed further. "
   ]
  },
  {
   "cell_type": "markdown",
   "metadata": {},
   "source": [
    "#### **Survival by Gender**\n",
    "   - What is the survival rate for males and females?"
   ]
  },
  {
   "cell_type": "code",
   "execution_count": null,
   "metadata": {},
   "outputs": [],
   "source": [
    "gr_data = DataAnalyzer.calculate_survival_percentage(train_df, 'gender')\n",
    "DataAnalyzer.plot_survival_by_feature(gr_data, 'gender', 'Passenger Gender','Percentage of Passengers', 'Percentage of Survival and Non-Survival by Gender' )\n",
    "gr_data"
   ]
  },
  {
   "cell_type": "code",
   "execution_count": null,
   "metadata": {},
   "outputs": [],
   "source": [
    "grouped = train_df.groupby(['gender', 'passenger_class', 'survived']).size().reset_index(name='count')\n",
    "total_passengers = grouped.groupby('gender')['count'].sum().reset_index()\n",
    "grouped = grouped.merge(total_passengers, on='gender', suffixes=('', '_total'))\n",
    "grouped['survival_percentage'] = grouped['count'] / grouped['count_total'] * 100\n",
    "\n",
    "# Filter the DataFrame for females\n",
    "female_data = grouped[grouped['gender'] == 'female'].copy()\n",
    "\n",
    "# Calculate the total number of females by class\n",
    "total_females_by_class = female_data.groupby('passenger_class')['count'].sum().reset_index()\n",
    "total_females_by_class.columns = ['passenger_class', 'total_females']\n",
    "\n",
    "# Calculate the survival percentage by class for females\n",
    "female_data['survival_percentage'] = female_data['count'] / total_females_by_class.merge(female_data, on='passenger_class')['total_females'] * 100"
   ]
  },
  {
   "cell_type": "code",
   "execution_count": null,
   "metadata": {},
   "outputs": [],
   "source": [
    "DataAnalyzer.plot_survival_by_feature(female_data, 'passenger_class', 'Passenger Class','Percentage of Female Passengers', 'Percentage of Survival and Non-Survival of Females by Class' )"
   ]
  },
  {
   "cell_type": "markdown",
   "metadata": {},
   "source": [
    "- The total number of male passengers (577) significantly outweighed the number of female passengers (314). Males constituted approximately 65% of the total passengers on board.\n",
    "- The survival rate for female passengers was remarkably higher than that of males. Approximately 74.2% of females survived the disaster, while only 18.9% of males managed to survive.\n",
    "- Analyzing the survival rate of females based on their class of travel reveals interesting insights. First-class female passengers had an impressively high survival rate of 96.8%, followed by 92.1% for second-class passengers. These figures demonstrate that females traveling in higher classes were more likely to survive.\n",
    "- In contrast, third-class female passengers experienced a significantly lower survival rate of 50%. This suggests that females in the lower class faced more challenges and had a reduced likelihood of survival."
   ]
  },
  {
   "cell_type": "markdown",
   "metadata": {},
   "source": [
    "#### **Survival by Age and Class**\n",
    "   - How does survival vary across different age groups and passenger classes on the Titanic?"
   ]
  },
  {
   "cell_type": "code",
   "execution_count": null,
   "metadata": {},
   "outputs": [],
   "source": [
    "sns.boxplot(data=train_df, x=\"age\", y=\"passenger_class\", hue=\"survived\")\n",
    "plt.xlabel('Age in years')\n",
    "plt.ylabel('Passenger Class')\n",
    "plt.title('Age Grouped by Passenger Class and Survival')\n",
    "plt.show()\n",
    "\n",
    "age_bins = [0, 10, 20, 30, 40, 50, 60, 70, 80, 100]\n",
    "age_labels = ['0-9', '10-19', '20-29', '30-39', '40-49', '50-59', '60-69', '70-79', '80+']\n",
    "train_df['age_range'] = pd.cut(train_df['age'], bins=age_bins, labels=age_labels, right=False)\n",
    "test_df['age_range'] = pd.cut(train_df['age'], bins=age_bins, labels=age_labels, right=False)\n",
    "\n",
    "age_class_counts = train_df.groupby(['age_range', 'passenger_class']).size().reset_index(name='count')\n",
    "survived_counts = train_df.groupby(['age_range', 'passenger_class', 'survived']).size().reset_index(name='survived_count')\n",
    "\n",
    "age_class_survival_counts = age_class_counts.merge(survived_counts, on=['age_range', 'passenger_class'], how='left')\n",
    "age_class_survival_counts['survival_rate'] = age_class_survival_counts['survived_count'] / age_class_survival_counts['count']\n",
    "age_class_survival_counts.sort_values(by='survival_rate', ascending=False, inplace=True)\n",
    "survived_passengers = age_class_survival_counts.loc[age_class_survival_counts['survived'] == 1]\n",
    "survived_passengers.head(10)"
   ]
  },
  {
   "cell_type": "markdown",
   "metadata": {},
   "source": [
    "- Passengers aged 80 and above in the first class had a 100% survival rate.\n",
    "- Children aged 0 to 9 years old in the second class had a 100% survival rate.\n",
    "- Passengers aged 10 to 19 in the first class had a survival rate of 83.33%.\n",
    "- Passengers aged 20 to 29 in the first class had a survival rate of 78%.\n",
    "- Passengers aged 0 to 9 years old in the first class had a survival rate of 66.67%."
   ]
  },
  {
   "cell_type": "markdown",
   "metadata": {},
   "source": [
    "#### **Family Size**\n",
    "   - What is the distribution of family sizes (SibSp + Parch) among passengers?"
   ]
  },
  {
   "cell_type": "code",
   "execution_count": null,
   "metadata": {},
   "outputs": [],
   "source": [
    "train_df['family_size'] = train_df['sibling_spouse_count'] + train_df['parent_child_count']\n",
    "test_df['family_size'] = test_df['sibling_spouse_count'] + test_df['parent_child_count']\n",
    "ax = sns.histplot(train_df['family_size'], bins=range(0, max(train_df['family_size']) + 1),\n",
    "                 kde=False, color='#4C72B0', stat='probability')\n",
    "plt.xlabel('Family Size')\n",
    "plt.ylabel('Proportion')\n",
    "plt.title('Proportion of Family Sizes among Passengers')\n",
    "\n",
    "for p in ax.patches:\n",
    "    proportion = p.get_height()\n",
    "    ax.annotate(f'{proportion:.2%}', (p.get_x() + p.get_width() / 2., proportion), \n",
    "                ha='center', va='bottom', fontsize=10, color='black', xytext=(0, 5), \n",
    "                textcoords='offset points')\n",
    "\n",
    "plt.show()"
   ]
  },
  {
   "cell_type": "markdown",
   "metadata": {},
   "source": [
    "- Most passengers (60.27%) traveled alone or with only one family member (e.g., spouse, sibling, or parent/child). This suggests that a significant portion of passengers preferred to travel individually or with a close family member.\n",
    "- The proportion of passengers with family sizes between 1 and 2 is 18.07%. This means that a considerable number of passengers traveled with a small family group, possibly with a spouse or one child.\n",
    "- Approximately 11.45% of passengers had family sizes between 2 and 3. This indicates that a notable percentage of passengers traveled with a slightly larger family group, possibly with both a spouse and one or more children.\n",
    "-  Only 0.79% of passengers had family sizes between 9 and 10. This suggests that a very small number of passengers were part of significantly larger family groups.\n",
    "\n"
   ]
  },
  {
   "cell_type": "markdown",
   "metadata": {},
   "source": [
    "#### **Port of Embarkation**\n",
    "   - How many passengers embarked from each port, and how does it relate to survival?"
   ]
  },
  {
   "cell_type": "code",
   "execution_count": null,
   "metadata": {},
   "outputs": [],
   "source": [
    "gr_data = DataAnalyzer.calculate_survival_percentage(train_df, 'embarked_from')\n",
    "DataAnalyzer.plot_survival_by_feature(gr_data, 'embarked_from', 'Port Name','Percentage of Passengers', 'Percentage of Survival and Non-Survival by Embarked Port' )"
   ]
  },
  {
   "cell_type": "markdown",
   "metadata": {},
   "source": [
    "- The majority of passengers boarded the Titanic from the Southampton port, which served as the main departure point. Among the passengers who embarked in Southampton, approximately 33.7% survived the tragic event.\n",
    "- Moving on to the next highest survival rate, the passengers who boarded the Titanic in Cherbourg. These passengers exhibited a relatively higher survival rate of 55.4%.\n",
    "- Lastly, passengers who embarked from Queenstown, showing a survival rate of 39%."
   ]
  },
  {
   "cell_type": "markdown",
   "metadata": {},
   "source": [
    "7. **Survival by Cabin Deck**\n",
    "   - Does the deck level of the cabin influence survival rates?"
   ]
  },
  {
   "cell_type": "code",
   "execution_count": null,
   "metadata": {},
   "outputs": [],
   "source": [
    "train_df['cabin_group'] = train_df['cabin'].str[0]\n",
    "test_df['cabin_group'] = test_df['cabin'].str[0]\n",
    "gr_data = DataAnalyzer.calculate_survival_percentage(train_df, 'cabin_group')\n",
    "gr_data = gr_data.sort_values(by='survival_percentage', ascending=False)\n",
    "DataAnalyzer.plot_survival_by_feature(gr_data, 'cabin_group', 'Cabin Group','Percentage of Passengers', 'Percentage of Survival and Non-Survival by Cabin Group' )"
   ]
  },
  {
   "cell_type": "markdown",
   "metadata": {},
   "source": [
    "- Passengers in cabins D, E, and B demonstrated a higher likelihood of survival.\n",
    "- Cabin D had the highest survival rate at 75.8%.\n",
    "- Cabin E closely followed with a survival rate of 75%.\n",
    "- Cabin groups A and G experienced the highest percentage of non-survivors.\n",
    "- Passengers in cabin A had a non-survival rate of 53.3%.\n",
    "- Passengers in cabin G had a non-survival rate of 50%.\n",
    "- Interestingly, both cabin groups A and G had similar survival rates, each around 50%.\n",
    "- The location of passengers within the ship, represented by their cabin groups, significantly impacted their chances of survival during the tragic event."
   ]
  },
  {
   "cell_type": "markdown",
   "metadata": {},
   "source": [
    "#### **Fare Distribution**\n",
    "   - What is the distribution of fares paid by passengers?"
   ]
  },
  {
   "cell_type": "code",
   "execution_count": null,
   "metadata": {},
   "outputs": [],
   "source": [
    "plt.figure(figsize=(8, 6))\n",
    "ax = sns.histplot(train_df['ticket_fare'], bins=10, kde=False, color='#4C72B0', stat='probability')\n",
    "plt.xlabel('ticket_fare')\n",
    "plt.ylabel('Proportion')\n",
    "plt.title('Fare Distribution among Passengers')\n",
    "\n",
    "for p in ax.patches:\n",
    "    proportion = p.get_height()\n",
    "    ax.annotate(f'{proportion:.2%}', (p.get_x() + p.get_width() / 2., proportion), \n",
    "                ha='center', va='bottom', fontsize=10, color='black', xytext=(0, 5), \n",
    "                textcoords='offset points')\n",
    "\n",
    "plt.show()\n"
   ]
  },
  {
   "cell_type": "markdown",
   "metadata": {},
   "source": [
    "- The fare distribution among passengers shows that the majority (82.15%) paid fares between 0 and £50 pounds, indicating that this fare range was the most common choice.\n",
    "- Around 11.90% of passengers opted for fares in the range of £50 to £100 pounds, representing a moderate fare range.\n",
    "- Notably, a small proportion (1.23%) of passengers paid higher fares between £200 and £250 pounds, suggesting that only a few passengers chose this premium fare option.\n",
    "- Additionally, only a very small fraction (0.34%) of passengers paid fares exceeding £500 pounds, indicating that only a handful of passengers selected the highest fare available, possibly for more luxurious accommodations or exclusive services."
   ]
  },
  {
   "cell_type": "markdown",
   "metadata": {},
   "source": [
    "#### **Fare by Class**\n",
    "   - How does the fare distribution vary across different passenger classes (1st, 2nd, 3rd)?"
   ]
  },
  {
   "cell_type": "code",
   "execution_count": null,
   "metadata": {},
   "outputs": [],
   "source": [
    "from scipy import stats\n",
    "\n",
    "DataAnalyzer.plot_distribution_box_plot(train_df, 'passenger_class', 'ticket_fare', 'Passenger class',  'Fare',  'Fares Grouped by Passenger Class')\n",
    "\n",
    "train_df['winsorized_fare'] = stats.mstats.winsorize(train_df['ticket_fare'], limits=[0.01, 0.01])\n",
    "test_df['winsorized_fare'] = stats.mstats.winsorize(test_df['ticket_fare'], limits=[0.01, 0.01])\n",
    "fare_ranges = train_df.groupby('passenger_class')['winsorized_fare'].agg(['min', 'max']).reset_index()\n",
    "fare_ranges.columns = ['passenger_class', 'min_fare', 'max_fare']\n",
    "print(fare_ranges)\n",
    "\n",
    "total_passengers = len(train_df)\n",
    "proportions = train_df['passenger_class'].value_counts() / total_passengers\n",
    "proportions"
   ]
  },
  {
   "cell_type": "markdown",
   "metadata": {},
   "source": [
    "- The fare distribution varies among different passenger classes. For first-class passengers, the maximum fare observed was approximately £262 pounds. In contrast, second-class passengers paid a maximum fare of around £74 pounds, while third-class passengers' highest fare was approximately £70 pounds.\n",
    "\n",
    "- Taking inflation into account, we can estimate the equivalent value of the fare paid in 1912 to today's currency. Based on the Bank of England's inflation calculator and historical inflation rates, the fare of £262 pounds in 1912 would be approximately equivalent to £24,626.21 pounds today.\n",
    "\n",
    "<p>source: <a href=\"https://www.bankofengland.co.uk/monetary-policy/inflation/inflation-calculator\">Bank of England's inflation calculator and historical inflation rates</a></p>"
   ]
  },
  {
   "cell_type": "markdown",
   "metadata": {},
   "source": [
    "#### **Fare vs. Cabin Deck**\n",
    "   - Investigate if there is any correlation between the fare paid and the cabin deck assigned."
   ]
  },
  {
   "cell_type": "code",
   "execution_count": null,
   "metadata": {},
   "outputs": [],
   "source": [
    "DataAnalyzer.plot_distribution_box_plot(train_df, 'cabin_group', 'ticket_fare', 'Passenger Cabin Group',  'Fare',  'Fares Grouped by Passenger Cabin Group')"
   ]
  },
  {
   "cell_type": "markdown",
   "metadata": {},
   "source": [
    "- Passengers in cabins D, E, and B had a higher likelihood of survival. Cabin groups C and B, which had higher fare rates, also showed relatively high survival rates of approximately 59.3% and 74.5%, respectively. However, other factors such as proximity to lifeboats might have played a significant role in survival.\n",
    "- The relationship between cabin group, fare rates, and survival appears more intricate. Further analysis, considering demographics, deck locations, and access to lifeboats, could provide deeper insights into the factors influencing passenger survival on the Titanic."
   ]
  },
  {
   "cell_type": "markdown",
   "metadata": {},
   "source": [
    "#### **Fare by Port of Embarkation**\n",
    "   - Analyze whether the fares paid differ based on the port of embarkation."
   ]
  },
  {
   "cell_type": "code",
   "execution_count": null,
   "metadata": {},
   "outputs": [],
   "source": [
    "DataAnalyzer.plot_distribution_box_plot(train_df, 'embarked_from', 'ticket_fare', 'Port Name',  'Fare',  'Fares Grouped by Embarked Port')"
   ]
  },
  {
   "cell_type": "markdown",
   "metadata": {},
   "source": [
    "- The highest fares can be found in the Cherbourg (France) port, which was one of the stops on the Titanic's journey after departing from Southampton in England.\n",
    "- The second highest fares are from the departure port in Southampton.\n",
    "- In third place, the Queenstown port, now known as Cobh in Ireland, was the last stop and also appears to have relatively lower fares compared to the other two ports."
   ]
  },
  {
   "cell_type": "markdown",
   "metadata": {},
   "source": [
    "## <a id=\"4\"></a>\n",
    "<h1 style=\"font-family: Trebuchet MS; font-size: 24px; color: #8b4513; text-align: left; \"><b>Correlation Matrix: Relationships Between Features</b></h1>"
   ]
  },
  {
   "cell_type": "code",
   "execution_count": null,
   "metadata": {},
   "outputs": [],
   "source": [
    "# Calculate the correlation matrix\n",
    "correlation_matrix = train_df.corr('spearman')\n",
    "\n",
    "# Create a heatmap to visualize the correlation matrix\n",
    "plt.figure(figsize=(8, 6))\n",
    "sns.heatmap(correlation_matrix, annot=True, cmap='coolwarm', fmt=\".2f\", linewidths=0.5)\n",
    "plt.title('Correlation Matrix')\n",
    "plt.show()"
   ]
  },
  {
   "cell_type": "markdown",
   "metadata": {},
   "source": [
    "***Correlation Analysis***\n",
    "\n",
    "**Categorical Variables:**\n",
    "\n",
    "- Being a female and belonging to the first class increases the likelihood of survival, suggesting that these factors played a role in determining survival outcomes.\n",
    "- Passengers in cabins D, E, and B exhibited a higher likelihood of survival, indicating that the location of the cabin might have influenced survival rates.\n",
    "\n",
    "**Numerical Variables:**\n",
    "\n",
    "- There is a moderate negative correlation of -0.69 between passenger class and fare. This suggests that as the class level increases, the fare tends to decrease. However, it's important to note that the distribution of passengers across different classes influences this relationship. For instance, 24% of the passengers were in the first class, 20% in the second class, and 55% in the third class.\n",
    "- There is no strong relationship between survival and other numerical variables, indicating that factors other than these variables might have had a more significant impact on survival rates.\n",
    "- Family size and fare show a positive correlation of 0.53, implying that larger family sizes were associated with higher fares, which is reasonable considering more family members would lead to higher ticket costs."
   ]
  },
  {
   "cell_type": "code",
   "execution_count": null,
   "metadata": {},
   "outputs": [],
   "source": [
    "train_df.to_csv('../data/train_cleaned.csv', index=False)\n",
    "test_df.to_csv('../data/test_cleaned.csv', index=False)"
   ]
  }
 ],
 "metadata": {
  "kernelspec": {
   "display_name": "data_science",
   "language": "python",
   "name": "python3"
  },
  "language_info": {
   "codemirror_mode": {
    "name": "ipython",
    "version": 3
   },
   "file_extension": ".py",
   "mimetype": "text/x-python",
   "name": "python",
   "nbconvert_exporter": "python",
   "pygments_lexer": "ipython3",
   "version": "3.10.9"
  },
  "orig_nbformat": 4
 },
 "nbformat": 4,
 "nbformat_minor": 2
}
