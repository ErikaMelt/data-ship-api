{
 "cells": [
  {
   "cell_type": "code",
   "execution_count": 1,
   "metadata": {},
   "outputs": [],
   "source": [
    "import pandas as pd \n",
    "from utils import DataAnalyzer"
   ]
  },
  {
   "cell_type": "code",
   "execution_count": 2,
   "metadata": {},
   "outputs": [
    {
     "data": {
      "text/html": [
       "<div>\n",
       "<style scoped>\n",
       "    .dataframe tbody tr th:only-of-type {\n",
       "        vertical-align: middle;\n",
       "    }\n",
       "\n",
       "    .dataframe tbody tr th {\n",
       "        vertical-align: top;\n",
       "    }\n",
       "\n",
       "    .dataframe thead th {\n",
       "        text-align: right;\n",
       "    }\n",
       "</style>\n",
       "<table border=\"1\" class=\"dataframe\">\n",
       "  <thead>\n",
       "    <tr style=\"text-align: right;\">\n",
       "      <th></th>\n",
       "      <th>survived</th>\n",
       "      <th>passenger_class</th>\n",
       "      <th>name</th>\n",
       "      <th>gender</th>\n",
       "      <th>age</th>\n",
       "      <th>sibling_spouse_count</th>\n",
       "      <th>parent_child_count</th>\n",
       "      <th>ticket</th>\n",
       "      <th>ticket_fare</th>\n",
       "      <th>cabin</th>\n",
       "      <th>embarked_from</th>\n",
       "      <th>age_range</th>\n",
       "      <th>family_size</th>\n",
       "      <th>cabin_group</th>\n",
       "      <th>winsorized_fare</th>\n",
       "    </tr>\n",
       "  </thead>\n",
       "  <tbody>\n",
       "    <tr>\n",
       "      <th>0</th>\n",
       "      <td>0</td>\n",
       "      <td>third</td>\n",
       "      <td>braund, mr. owen harris</td>\n",
       "      <td>male</td>\n",
       "      <td>22.0</td>\n",
       "      <td>1</td>\n",
       "      <td>0</td>\n",
       "      <td>a/5 21171</td>\n",
       "      <td>7.2500</td>\n",
       "      <td>NaN</td>\n",
       "      <td>southampton</td>\n",
       "      <td>20-29</td>\n",
       "      <td>1</td>\n",
       "      <td>NaN</td>\n",
       "      <td>7.2500</td>\n",
       "    </tr>\n",
       "    <tr>\n",
       "      <th>1</th>\n",
       "      <td>1</td>\n",
       "      <td>first</td>\n",
       "      <td>cumings, mrs. john bradley (florence briggs th...</td>\n",
       "      <td>female</td>\n",
       "      <td>38.0</td>\n",
       "      <td>1</td>\n",
       "      <td>0</td>\n",
       "      <td>pc 17599</td>\n",
       "      <td>71.2833</td>\n",
       "      <td>c85</td>\n",
       "      <td>cherbourg</td>\n",
       "      <td>30-39</td>\n",
       "      <td>1</td>\n",
       "      <td>c</td>\n",
       "      <td>71.2833</td>\n",
       "    </tr>\n",
       "    <tr>\n",
       "      <th>2</th>\n",
       "      <td>1</td>\n",
       "      <td>third</td>\n",
       "      <td>heikkinen, miss. laina</td>\n",
       "      <td>female</td>\n",
       "      <td>26.0</td>\n",
       "      <td>0</td>\n",
       "      <td>0</td>\n",
       "      <td>ston/o2. 3101282</td>\n",
       "      <td>7.9250</td>\n",
       "      <td>NaN</td>\n",
       "      <td>southampton</td>\n",
       "      <td>20-29</td>\n",
       "      <td>0</td>\n",
       "      <td>NaN</td>\n",
       "      <td>7.9250</td>\n",
       "    </tr>\n",
       "    <tr>\n",
       "      <th>3</th>\n",
       "      <td>1</td>\n",
       "      <td>first</td>\n",
       "      <td>futrelle, mrs. jacques heath (lily may peel)</td>\n",
       "      <td>female</td>\n",
       "      <td>35.0</td>\n",
       "      <td>1</td>\n",
       "      <td>0</td>\n",
       "      <td>113803</td>\n",
       "      <td>53.1000</td>\n",
       "      <td>c123</td>\n",
       "      <td>southampton</td>\n",
       "      <td>30-39</td>\n",
       "      <td>1</td>\n",
       "      <td>c</td>\n",
       "      <td>53.1000</td>\n",
       "    </tr>\n",
       "    <tr>\n",
       "      <th>4</th>\n",
       "      <td>0</td>\n",
       "      <td>third</td>\n",
       "      <td>allen, mr. william henry</td>\n",
       "      <td>male</td>\n",
       "      <td>35.0</td>\n",
       "      <td>0</td>\n",
       "      <td>0</td>\n",
       "      <td>373450</td>\n",
       "      <td>8.0500</td>\n",
       "      <td>NaN</td>\n",
       "      <td>southampton</td>\n",
       "      <td>30-39</td>\n",
       "      <td>0</td>\n",
       "      <td>NaN</td>\n",
       "      <td>8.0500</td>\n",
       "    </tr>\n",
       "  </tbody>\n",
       "</table>\n",
       "</div>"
      ],
      "text/plain": [
       "   survived passenger_class  \\\n",
       "0         0           third   \n",
       "1         1           first   \n",
       "2         1           third   \n",
       "3         1           first   \n",
       "4         0           third   \n",
       "\n",
       "                                                name  gender   age  \\\n",
       "0                            braund, mr. owen harris    male  22.0   \n",
       "1  cumings, mrs. john bradley (florence briggs th...  female  38.0   \n",
       "2                             heikkinen, miss. laina  female  26.0   \n",
       "3       futrelle, mrs. jacques heath (lily may peel)  female  35.0   \n",
       "4                           allen, mr. william henry    male  35.0   \n",
       "\n",
       "   sibling_spouse_count  parent_child_count            ticket  ticket_fare  \\\n",
       "0                     1                   0         a/5 21171       7.2500   \n",
       "1                     1                   0          pc 17599      71.2833   \n",
       "2                     0                   0  ston/o2. 3101282       7.9250   \n",
       "3                     1                   0            113803      53.1000   \n",
       "4                     0                   0            373450       8.0500   \n",
       "\n",
       "  cabin embarked_from age_range  family_size cabin_group  winsorized_fare  \n",
       "0   NaN   southampton     20-29            1         NaN           7.2500  \n",
       "1   c85     cherbourg     30-39            1           c          71.2833  \n",
       "2   NaN   southampton     20-29            0         NaN           7.9250  \n",
       "3  c123   southampton     30-39            1           c          53.1000  \n",
       "4   NaN   southampton     30-39            0         NaN           8.0500  "
      ]
     },
     "execution_count": 2,
     "metadata": {},
     "output_type": "execute_result"
    }
   ],
   "source": [
    "train_path = '../data/train_cleaned.csv'\n",
    "test_path = '../data/test_cleaned.csv'\n",
    "\n",
    "train_df = pd.read_csv(train_path)\n",
    "test_df = pd.read_csv(test_path)\n",
    "\n",
    "train_df.columns = train_df.columns.str.lower()\n",
    "test_df.columns = test_df.columns.str.lower()\n",
    "train_df = train_df.apply(lambda x: x.str.lower() if x.dtype == \"object\" else x)\n",
    "test_df = test_df.apply(lambda x: x.str.lower() if x.dtype == \"object\" else x)\n",
    "\n",
    "train_df.head()"
   ]
  },
  {
   "cell_type": "markdown",
   "metadata": {},
   "source": [
    "### Feature Selection"
   ]
  },
  {
   "cell_type": "markdown",
   "metadata": {},
   "source": [
    "- Drop irrelavant columns "
   ]
  },
  {
   "cell_type": "code",
   "execution_count": 3,
   "metadata": {},
   "outputs": [],
   "source": [
    "df = train_df.drop(['name', 'ticket', 'cabin', 'sibling_spouse_count', 'parent_child_count', 'ticket_fare', 'age_range'], axis=1)\n",
    "df_eval = test_df.drop(['name', 'ticket', 'cabin', 'sibling_spouse_count', 'parent_child_count', 'ticket_fare', 'age_range'], axis=1)"
   ]
  },
  {
   "cell_type": "markdown",
   "metadata": {},
   "source": [
    "- handle missing data "
   ]
  },
  {
   "cell_type": "code",
   "execution_count": 4,
   "metadata": {},
   "outputs": [
    {
     "data": {
      "text/html": [
       "<style type=\"text/css\">\n",
       "#T_1ffe2_row0_col0 {\n",
       "  background-color: #fd8c3b;\n",
       "  color: #f1f1f1;\n",
       "}\n",
       "#T_1ffe2_row0_col1 {\n",
       "  background-color: #fd8e3d;\n",
       "  color: #f1f1f1;\n",
       "}\n",
       "#T_1ffe2_row1_col0, #T_1ffe2_row1_col1 {\n",
       "  background-color: #fee6ce;\n",
       "  color: #000000;\n",
       "}\n",
       "#T_1ffe2_row2_col0, #T_1ffe2_row2_col1 {\n",
       "  background-color: #fff5eb;\n",
       "  color: #000000;\n",
       "}\n",
       "</style>\n",
       "<table id=\"T_1ffe2_\">\n",
       "  <thead>\n",
       "    <tr>\n",
       "      <th class=\"blank level0\" >&nbsp;</th>\n",
       "      <th class=\"col_heading level0 col0\" >Total Nulos</th>\n",
       "      <th class=\"col_heading level0 col1\" >% Nulos</th>\n",
       "    </tr>\n",
       "  </thead>\n",
       "  <tbody>\n",
       "    <tr>\n",
       "      <th id=\"T_1ffe2_level0_row0\" class=\"row_heading level0 row0\" >cabin_group</th>\n",
       "      <td id=\"T_1ffe2_row0_col0\" class=\"data row0 col0\" >687</td>\n",
       "      <td id=\"T_1ffe2_row0_col1\" class=\"data row0 col1\" >77.104377</td>\n",
       "    </tr>\n",
       "    <tr>\n",
       "      <th id=\"T_1ffe2_level0_row1\" class=\"row_heading level0 row1\" >age</th>\n",
       "      <td id=\"T_1ffe2_row1_col0\" class=\"data row1 col0\" >177</td>\n",
       "      <td id=\"T_1ffe2_row1_col1\" class=\"data row1 col1\" >19.865320</td>\n",
       "    </tr>\n",
       "    <tr>\n",
       "      <th id=\"T_1ffe2_level0_row2\" class=\"row_heading level0 row2\" >embarked_from</th>\n",
       "      <td id=\"T_1ffe2_row2_col0\" class=\"data row2 col0\" >2</td>\n",
       "      <td id=\"T_1ffe2_row2_col1\" class=\"data row2 col1\" >0.224467</td>\n",
       "    </tr>\n",
       "  </tbody>\n",
       "</table>\n"
      ],
      "text/plain": [
       "<pandas.io.formats.style.Styler at 0x7fa414fb1e70>"
      ]
     },
     "execution_count": 4,
     "metadata": {},
     "output_type": "execute_result"
    }
   ],
   "source": [
    "DataAnalyzer.get_missing_values(df)"
   ]
  },
  {
   "cell_type": "code",
   "execution_count": 5,
   "metadata": {},
   "outputs": [
    {
     "data": {
      "text/html": [
       "<style type=\"text/css\">\n",
       "#T_9c2fd_row0_col0, #T_9c2fd_row0_col1 {\n",
       "  background-color: #fd8c3b;\n",
       "  color: #f1f1f1;\n",
       "}\n",
       "#T_9c2fd_row1_col0, #T_9c2fd_row1_col1 {\n",
       "  background-color: #fff5eb;\n",
       "  color: #000000;\n",
       "}\n",
       "</style>\n",
       "<table id=\"T_9c2fd_\">\n",
       "  <thead>\n",
       "    <tr>\n",
       "      <th class=\"blank level0\" >&nbsp;</th>\n",
       "      <th class=\"col_heading level0 col0\" >Total Nulos</th>\n",
       "      <th class=\"col_heading level0 col1\" >% Nulos</th>\n",
       "    </tr>\n",
       "  </thead>\n",
       "  <tbody>\n",
       "    <tr>\n",
       "      <th id=\"T_9c2fd_level0_row0\" class=\"row_heading level0 row0\" >cabin_group</th>\n",
       "      <td id=\"T_9c2fd_row0_col0\" class=\"data row0 col0\" >327</td>\n",
       "      <td id=\"T_9c2fd_row0_col1\" class=\"data row0 col1\" >78.229665</td>\n",
       "    </tr>\n",
       "    <tr>\n",
       "      <th id=\"T_9c2fd_level0_row1\" class=\"row_heading level0 row1\" >age</th>\n",
       "      <td id=\"T_9c2fd_row1_col0\" class=\"data row1 col0\" >86</td>\n",
       "      <td id=\"T_9c2fd_row1_col1\" class=\"data row1 col1\" >20.574163</td>\n",
       "    </tr>\n",
       "  </tbody>\n",
       "</table>\n"
      ],
      "text/plain": [
       "<pandas.io.formats.style.Styler at 0x7fa4156d1630>"
      ]
     },
     "execution_count": 5,
     "metadata": {},
     "output_type": "execute_result"
    }
   ],
   "source": [
    "DataAnalyzer.get_missing_values(df_eval)"
   ]
  },
  {
   "cell_type": "markdown",
   "metadata": {},
   "source": [
    "- Drop the cabin_group column as 77.10% of the data is missing, and imputing missing values might introduce noise.\n",
    "- For the age column, fill the missing values with the median age (approximately 29.70 years) based on the age distribution observed during exploratory data analysis.\n",
    "- For the embarked_port column, fill the two missing values with the mode (the most common port) as it provides a reasonable estimate given the limited number of missing entries."
   ]
  },
  {
   "cell_type": "code",
   "execution_count": 6,
   "metadata": {},
   "outputs": [],
   "source": [
    "df.drop(['cabin_group'], axis=1, inplace=True)\n",
    "df['embarked_from'].fillna(df['embarked_from'].mode()[0], inplace=True)\n",
    "df['age'].fillna(df['age'].median(), inplace=True)"
   ]
  },
  {
   "cell_type": "markdown",
   "metadata": {},
   "source": [
    "### Feature Engineering "
   ]
  },
  {
   "cell_type": "markdown",
   "metadata": {},
   "source": [
    "- Age Category: Bins the ages into 'Child', 'Teenager', 'Young Adult', 'Adult', and 'Elderly' groups for more generalized analysis."
   ]
  },
  {
   "cell_type": "code",
   "execution_count": 7,
   "metadata": {},
   "outputs": [],
   "source": [
    "age_bins = [0, 12, 18, 30, 50, 100]\n",
    "age_labels = ['child', 'teenager', 'young adult', 'adult', 'elderly']\n",
    "df['age_category'] = pd.cut(df['age'], bins=age_bins, labels=age_labels, right=False)\n",
    "df_eval['age_category'] = pd.cut(df_eval['age'], bins=age_bins, labels=age_labels, right=False)\n"
   ]
  },
  {
   "cell_type": "markdown",
   "metadata": {},
   "source": [
    "- Fare per Family Member: Calculates normalized fare value for each family member based on family size."
   ]
  },
  {
   "cell_type": "code",
   "execution_count": 8,
   "metadata": {},
   "outputs": [],
   "source": [
    "df['fare_per_family_member'] = df['winsorized_fare'] / (df['family_size'] + 1)  \n",
    "df_eval['fare_per_family_member'] = df_eval['winsorized_fare'] / (df_eval['family_size'] + 1)  "
   ]
  },
  {
   "cell_type": "code",
   "execution_count": 9,
   "metadata": {},
   "outputs": [],
   "source": [
    "## Drop age column as age_category is calculated \n",
    "df.drop(['age'], axis=1, inplace=True)\n",
    "df_eval.drop(['age'], axis=1, inplace=True)"
   ]
  },
  {
   "cell_type": "code",
   "execution_count": 10,
   "metadata": {},
   "outputs": [
    {
     "data": {
      "text/html": [
       "<style type=\"text/css\">\n",
       "</style>\n",
       "<table id=\"T_2480d_\">\n",
       "  <thead>\n",
       "    <tr>\n",
       "      <th class=\"blank level0\" >&nbsp;</th>\n",
       "      <th class=\"col_heading level0 col0\" >Total Nulos</th>\n",
       "      <th class=\"col_heading level0 col1\" >% Nulos</th>\n",
       "    </tr>\n",
       "  </thead>\n",
       "  <tbody>\n",
       "  </tbody>\n",
       "</table>\n"
      ],
      "text/plain": [
       "<pandas.io.formats.style.Styler at 0x7fa4156d0850>"
      ]
     },
     "execution_count": 10,
     "metadata": {},
     "output_type": "execute_result"
    }
   ],
   "source": [
    "DataAnalyzer.get_missing_values(df)"
   ]
  },
  {
   "cell_type": "code",
   "execution_count": 11,
   "metadata": {},
   "outputs": [
    {
     "data": {
      "text/html": [
       "<div>\n",
       "<style scoped>\n",
       "    .dataframe tbody tr th:only-of-type {\n",
       "        vertical-align: middle;\n",
       "    }\n",
       "\n",
       "    .dataframe tbody tr th {\n",
       "        vertical-align: top;\n",
       "    }\n",
       "\n",
       "    .dataframe thead th {\n",
       "        text-align: right;\n",
       "    }\n",
       "</style>\n",
       "<table border=\"1\" class=\"dataframe\">\n",
       "  <thead>\n",
       "    <tr style=\"text-align: right;\">\n",
       "      <th></th>\n",
       "      <th>survived</th>\n",
       "      <th>passenger_class</th>\n",
       "      <th>gender</th>\n",
       "      <th>embarked_from</th>\n",
       "      <th>family_size</th>\n",
       "      <th>winsorized_fare</th>\n",
       "      <th>age_category</th>\n",
       "      <th>fare_per_family_member</th>\n",
       "    </tr>\n",
       "  </thead>\n",
       "  <tbody>\n",
       "    <tr>\n",
       "      <th>0</th>\n",
       "      <td>0</td>\n",
       "      <td>third</td>\n",
       "      <td>male</td>\n",
       "      <td>southampton</td>\n",
       "      <td>1</td>\n",
       "      <td>7.2500</td>\n",
       "      <td>young adult</td>\n",
       "      <td>3.62500</td>\n",
       "    </tr>\n",
       "    <tr>\n",
       "      <th>1</th>\n",
       "      <td>1</td>\n",
       "      <td>first</td>\n",
       "      <td>female</td>\n",
       "      <td>cherbourg</td>\n",
       "      <td>1</td>\n",
       "      <td>71.2833</td>\n",
       "      <td>adult</td>\n",
       "      <td>35.64165</td>\n",
       "    </tr>\n",
       "    <tr>\n",
       "      <th>2</th>\n",
       "      <td>1</td>\n",
       "      <td>third</td>\n",
       "      <td>female</td>\n",
       "      <td>southampton</td>\n",
       "      <td>0</td>\n",
       "      <td>7.9250</td>\n",
       "      <td>young adult</td>\n",
       "      <td>7.92500</td>\n",
       "    </tr>\n",
       "    <tr>\n",
       "      <th>3</th>\n",
       "      <td>1</td>\n",
       "      <td>first</td>\n",
       "      <td>female</td>\n",
       "      <td>southampton</td>\n",
       "      <td>1</td>\n",
       "      <td>53.1000</td>\n",
       "      <td>adult</td>\n",
       "      <td>26.55000</td>\n",
       "    </tr>\n",
       "    <tr>\n",
       "      <th>4</th>\n",
       "      <td>0</td>\n",
       "      <td>third</td>\n",
       "      <td>male</td>\n",
       "      <td>southampton</td>\n",
       "      <td>0</td>\n",
       "      <td>8.0500</td>\n",
       "      <td>adult</td>\n",
       "      <td>8.05000</td>\n",
       "    </tr>\n",
       "  </tbody>\n",
       "</table>\n",
       "</div>"
      ],
      "text/plain": [
       "   survived passenger_class  gender embarked_from  family_size  \\\n",
       "0         0           third    male   southampton            1   \n",
       "1         1           first  female     cherbourg            1   \n",
       "2         1           third  female   southampton            0   \n",
       "3         1           first  female   southampton            1   \n",
       "4         0           third    male   southampton            0   \n",
       "\n",
       "   winsorized_fare age_category  fare_per_family_member  \n",
       "0           7.2500  young adult                 3.62500  \n",
       "1          71.2833        adult                35.64165  \n",
       "2           7.9250  young adult                 7.92500  \n",
       "3          53.1000        adult                26.55000  \n",
       "4           8.0500        adult                 8.05000  "
      ]
     },
     "execution_count": 11,
     "metadata": {},
     "output_type": "execute_result"
    }
   ],
   "source": [
    "df.head()"
   ]
  },
  {
   "cell_type": "code",
   "execution_count": 12,
   "metadata": {},
   "outputs": [
    {
     "name": "stdout",
     "output_type": "stream",
     "text": [
      "<class 'pandas.core.frame.DataFrame'>\n",
      "RangeIndex: 891 entries, 0 to 890\n",
      "Data columns (total 8 columns):\n",
      " #   Column                  Non-Null Count  Dtype   \n",
      "---  ------                  --------------  -----   \n",
      " 0   survived                891 non-null    int64   \n",
      " 1   passenger_class         891 non-null    object  \n",
      " 2   gender                  891 non-null    object  \n",
      " 3   embarked_from           891 non-null    object  \n",
      " 4   family_size             891 non-null    int64   \n",
      " 5   winsorized_fare         891 non-null    float64 \n",
      " 6   age_category            891 non-null    category\n",
      " 7   fare_per_family_member  891 non-null    float64 \n",
      "dtypes: category(1), float64(2), int64(2), object(3)\n",
      "memory usage: 49.9+ KB\n"
     ]
    }
   ],
   "source": [
    "df.info()"
   ]
  },
  {
   "cell_type": "markdown",
   "metadata": {},
   "source": [
    "### Separate Target "
   ]
  },
  {
   "cell_type": "code",
   "execution_count": 13,
   "metadata": {},
   "outputs": [],
   "source": [
    "X = df.drop('survived', axis=1)\n",
    "y = df['survived']"
   ]
  },
  {
   "cell_type": "markdown",
   "metadata": {},
   "source": [
    "### Train-Test Split\n",
    "\n",
    "- Stratified sampling is chosen to create the predictive model due to the significant difference in survival rates between male and female passengers, as revealed during exploratory data analysis. This approach ensures proportional representation of both genders in the training and testing datasets, improving model accuracy and generalizability.\n",
    "- The data will be split in an 80/20 proportion to maintain a balanced representation of male and female passengers in both sets."
   ]
  },
  {
   "cell_type": "code",
   "execution_count": 14,
   "metadata": {},
   "outputs": [
    {
     "name": "stdout",
     "output_type": "stream",
     "text": [
      "Proportion of males in training set: 0.6474719101123596\n",
      "Proportion of females in training set: 0.35252808988764045\n",
      "Proportion of males in testing set: 0.6480446927374302\n",
      "Proportion of females in testing set: 0.35195530726256985\n"
     ]
    }
   ],
   "source": [
    "from sklearn.model_selection import StratifiedShuffleSplit\n",
    "\n",
    "sss = StratifiedShuffleSplit(n_splits=1, test_size=0.2, random_state=42)\n",
    "\n",
    "for train_index, test_index in sss.split(X, X['gender']):  # Use 'gender' column for stratification\n",
    "    X_train, X_test = X.iloc[train_index], X.iloc[test_index]\n",
    "    y_train, y_test = y.iloc[train_index], y.iloc[test_index]\n",
    "\n",
    "# Now, check the proportions\n",
    "print(\"Proportion of males in training set:\", (X_train['gender'] == 'male').mean())\n",
    "print(\"Proportion of females in training set:\", (X_train['gender'] == 'female').mean())\n",
    "\n",
    "print(\"Proportion of males in testing set:\", (X_test['gender'] == 'male').mean())\n",
    "print(\"Proportion of females in testing set:\", (X_test['gender'] == 'female').mean())\n"
   ]
  },
  {
   "cell_type": "code",
   "execution_count": 15,
   "metadata": {},
   "outputs": [
    {
     "name": "stdout",
     "output_type": "stream",
     "text": [
      "Survived Ratio: 0.3890449438202247\n",
      "Non-Survived Ratio: 0.6109550561797753\n"
     ]
    }
   ],
   "source": [
    "class_distribution = y_train.value_counts()\n",
    "\n",
    "# Calculate the ratio of survived vs. non-survived\n",
    "survived_ratio = class_distribution[1] / len(y_train)\n",
    "non_survived_ratio = class_distribution[0] / len(y_train)\n",
    "\n",
    "print(f'Survived Ratio: {survived_ratio}')\n",
    "print(f'Non-Survived Ratio: {non_survived_ratio}')"
   ]
  },
  {
   "cell_type": "code",
   "execution_count": 16,
   "metadata": {},
   "outputs": [
    {
     "name": "stdout",
     "output_type": "stream",
     "text": [
      "Categorical feature distributions:\n",
      "male      461\n",
      "female    251\n",
      "Name: gender, dtype: int64\n",
      "third     402\n",
      "first     172\n",
      "second    138\n",
      "Name: passenger_class, dtype: int64\n",
      "southampton    517\n",
      "cherbourg      132\n",
      "queenstown      63\n",
      "Name: embarked_from, dtype: int64\n",
      "young adult    351\n",
      "adult          209\n",
      "elderly         59\n",
      "child           54\n",
      "teenager        39\n",
      "Name: age_category, dtype: int64\n",
      "Categorical feature distributions:\n",
      "male      116\n",
      "female     63\n",
      "Name: gender, dtype: int64\n",
      "third     89\n",
      "second    46\n",
      "first     44\n",
      "Name: passenger_class, dtype: int64\n",
      "southampton    129\n",
      "cherbourg       36\n",
      "queenstown      14\n",
      "Name: embarked_from, dtype: int64\n",
      "young adult    97\n",
      "adult          47\n",
      "elderly        15\n",
      "child          14\n",
      "teenager        6\n",
      "Name: age_category, dtype: int64\n"
     ]
    }
   ],
   "source": [
    "print(\"Categorical feature distributions:\")\n",
    "print(X_train['gender'].value_counts())\n",
    "print(X_train['passenger_class'].value_counts())\n",
    "print(X_train['embarked_from'].value_counts())\n",
    "print(X_train['age_category'].value_counts())\n",
    "\n",
    "print(\"Categorical feature distributions:\")\n",
    "print(X_test['gender'].value_counts())\n",
    "print(X_test['passenger_class'].value_counts())\n",
    "print(X_test['embarked_from'].value_counts())\n",
    "print(X_test['age_category'].value_counts())"
   ]
  },
  {
   "cell_type": "code",
   "execution_count": 17,
   "metadata": {},
   "outputs": [],
   "source": [
    "from sklearn.pipeline import Pipeline\n",
    "from sklearn.preprocessing import MinMaxScaler\n",
    "from sklearn.preprocessing import OneHotEncoder\n",
    "from sklearn.compose import ColumnTransformer\n",
    "from sklearn.model_selection import GridSearchCV\n",
    "from xgboost import XGBClassifier"
   ]
  },
  {
   "cell_type": "markdown",
   "metadata": {},
   "source": [
    "### Data Transformation"
   ]
  },
  {
   "cell_type": "code",
   "execution_count": 18,
   "metadata": {},
   "outputs": [],
   "source": [
    "numerical_columns = X.select_dtypes(include=['int64', 'float64']).columns\n",
    "categorical_columns = X.select_dtypes(include=['object', 'category']).columns\n",
    "\n",
    "numeric_transformer = Pipeline(steps=[\n",
    "    ('scaler', MinMaxScaler())\n",
    "])\n",
    "\n",
    "categorical_transformer = Pipeline(steps=[\n",
    "    ('onehot', OneHotEncoder(handle_unknown='ignore'))\n",
    "])"
   ]
  },
  {
   "cell_type": "code",
   "execution_count": 19,
   "metadata": {},
   "outputs": [],
   "source": [
    "preprocessor = ColumnTransformer(\n",
    "    transformers=[\n",
    "        ('num', numeric_transformer, numerical_columns),\n",
    "        ('cat', categorical_transformer, categorical_columns)\n",
    "    ])\n"
   ]
  },
  {
   "cell_type": "markdown",
   "metadata": {},
   "source": [
    "### Build the XGBoost Model"
   ]
  },
  {
   "cell_type": "code",
   "execution_count": 20,
   "metadata": {},
   "outputs": [
    {
     "data": {
      "text/html": [
       "<style>#sk-container-id-1 {color: black;background-color: white;}#sk-container-id-1 pre{padding: 0;}#sk-container-id-1 div.sk-toggleable {background-color: white;}#sk-container-id-1 label.sk-toggleable__label {cursor: pointer;display: block;width: 100%;margin-bottom: 0;padding: 0.3em;box-sizing: border-box;text-align: center;}#sk-container-id-1 label.sk-toggleable__label-arrow:before {content: \"▸\";float: left;margin-right: 0.25em;color: #696969;}#sk-container-id-1 label.sk-toggleable__label-arrow:hover:before {color: black;}#sk-container-id-1 div.sk-estimator:hover label.sk-toggleable__label-arrow:before {color: black;}#sk-container-id-1 div.sk-toggleable__content {max-height: 0;max-width: 0;overflow: hidden;text-align: left;background-color: #f0f8ff;}#sk-container-id-1 div.sk-toggleable__content pre {margin: 0.2em;color: black;border-radius: 0.25em;background-color: #f0f8ff;}#sk-container-id-1 input.sk-toggleable__control:checked~div.sk-toggleable__content {max-height: 200px;max-width: 100%;overflow: auto;}#sk-container-id-1 input.sk-toggleable__control:checked~label.sk-toggleable__label-arrow:before {content: \"▾\";}#sk-container-id-1 div.sk-estimator input.sk-toggleable__control:checked~label.sk-toggleable__label {background-color: #d4ebff;}#sk-container-id-1 div.sk-label input.sk-toggleable__control:checked~label.sk-toggleable__label {background-color: #d4ebff;}#sk-container-id-1 input.sk-hidden--visually {border: 0;clip: rect(1px 1px 1px 1px);clip: rect(1px, 1px, 1px, 1px);height: 1px;margin: -1px;overflow: hidden;padding: 0;position: absolute;width: 1px;}#sk-container-id-1 div.sk-estimator {font-family: monospace;background-color: #f0f8ff;border: 1px dotted black;border-radius: 0.25em;box-sizing: border-box;margin-bottom: 0.5em;}#sk-container-id-1 div.sk-estimator:hover {background-color: #d4ebff;}#sk-container-id-1 div.sk-parallel-item::after {content: \"\";width: 100%;border-bottom: 1px solid gray;flex-grow: 1;}#sk-container-id-1 div.sk-label:hover label.sk-toggleable__label {background-color: #d4ebff;}#sk-container-id-1 div.sk-serial::before {content: \"\";position: absolute;border-left: 1px solid gray;box-sizing: border-box;top: 0;bottom: 0;left: 50%;z-index: 0;}#sk-container-id-1 div.sk-serial {display: flex;flex-direction: column;align-items: center;background-color: white;padding-right: 0.2em;padding-left: 0.2em;position: relative;}#sk-container-id-1 div.sk-item {position: relative;z-index: 1;}#sk-container-id-1 div.sk-parallel {display: flex;align-items: stretch;justify-content: center;background-color: white;position: relative;}#sk-container-id-1 div.sk-item::before, #sk-container-id-1 div.sk-parallel-item::before {content: \"\";position: absolute;border-left: 1px solid gray;box-sizing: border-box;top: 0;bottom: 0;left: 50%;z-index: -1;}#sk-container-id-1 div.sk-parallel-item {display: flex;flex-direction: column;z-index: 1;position: relative;background-color: white;}#sk-container-id-1 div.sk-parallel-item:first-child::after {align-self: flex-end;width: 50%;}#sk-container-id-1 div.sk-parallel-item:last-child::after {align-self: flex-start;width: 50%;}#sk-container-id-1 div.sk-parallel-item:only-child::after {width: 0;}#sk-container-id-1 div.sk-dashed-wrapped {border: 1px dashed gray;margin: 0 0.4em 0.5em 0.4em;box-sizing: border-box;padding-bottom: 0.4em;background-color: white;}#sk-container-id-1 div.sk-label label {font-family: monospace;font-weight: bold;display: inline-block;line-height: 1.2em;}#sk-container-id-1 div.sk-label-container {text-align: center;}#sk-container-id-1 div.sk-container {/* jupyter's `normalize.less` sets `[hidden] { display: none; }` but bootstrap.min.css set `[hidden] { display: none !important; }` so we also need the `!important` here to be able to override the default hidden behavior on the sphinx rendered scikit-learn.org. See: https://github.com/scikit-learn/scikit-learn/issues/21755 */display: inline-block !important;position: relative;}#sk-container-id-1 div.sk-text-repr-fallback {display: none;}</style><div id=\"sk-container-id-1\" class=\"sk-top-container\"><div class=\"sk-text-repr-fallback\"><pre>Pipeline(steps=[(&#x27;preprocess&#x27;,\n",
       "                 ColumnTransformer(transformers=[(&#x27;num&#x27;,\n",
       "                                                  Pipeline(steps=[(&#x27;scaler&#x27;,\n",
       "                                                                   MinMaxScaler())]),\n",
       "                                                  Index([&#x27;family_size&#x27;, &#x27;winsorized_fare&#x27;, &#x27;fare_per_family_member&#x27;], dtype=&#x27;object&#x27;)),\n",
       "                                                 (&#x27;cat&#x27;,\n",
       "                                                  Pipeline(steps=[(&#x27;onehot&#x27;,\n",
       "                                                                   OneHotEncoder(handle_unknown=&#x27;ignore&#x27;))]),\n",
       "                                                  Index([&#x27;passenger_class&#x27;, &#x27;gender&#x27;, &#x27;embarked_from&#x27;, &#x27;age_category&#x27;], dtype=&#x27;object&#x27;...\n",
       "                               importance_type=None, interaction_constraints=&#x27;&#x27;,\n",
       "                               learning_rate=0.300000012, max_delta_step=0,\n",
       "                               max_depth=6, min_child_weight=1, missing=nan,\n",
       "                               monotone_constraints=&#x27;()&#x27;, n_estimators=100,\n",
       "                               n_jobs=8, num_parallel_tree=1, predictor=&#x27;auto&#x27;,\n",
       "                               random_state=42, reg_alpha=0, reg_lambda=1,\n",
       "                               scale_pos_weight=1, subsample=1,\n",
       "                               tree_method=&#x27;exact&#x27;, use_label_encoder=False,\n",
       "                               validate_parameters=1, verbosity=None))])</pre><b>In a Jupyter environment, please rerun this cell to show the HTML representation or trust the notebook. <br />On GitHub, the HTML representation is unable to render, please try loading this page with nbviewer.org.</b></div><div class=\"sk-container\" hidden><div class=\"sk-item sk-dashed-wrapped\"><div class=\"sk-label-container\"><div class=\"sk-label sk-toggleable\"><input class=\"sk-toggleable__control sk-hidden--visually\" id=\"sk-estimator-id-1\" type=\"checkbox\" ><label for=\"sk-estimator-id-1\" class=\"sk-toggleable__label sk-toggleable__label-arrow\">Pipeline</label><div class=\"sk-toggleable__content\"><pre>Pipeline(steps=[(&#x27;preprocess&#x27;,\n",
       "                 ColumnTransformer(transformers=[(&#x27;num&#x27;,\n",
       "                                                  Pipeline(steps=[(&#x27;scaler&#x27;,\n",
       "                                                                   MinMaxScaler())]),\n",
       "                                                  Index([&#x27;family_size&#x27;, &#x27;winsorized_fare&#x27;, &#x27;fare_per_family_member&#x27;], dtype=&#x27;object&#x27;)),\n",
       "                                                 (&#x27;cat&#x27;,\n",
       "                                                  Pipeline(steps=[(&#x27;onehot&#x27;,\n",
       "                                                                   OneHotEncoder(handle_unknown=&#x27;ignore&#x27;))]),\n",
       "                                                  Index([&#x27;passenger_class&#x27;, &#x27;gender&#x27;, &#x27;embarked_from&#x27;, &#x27;age_category&#x27;], dtype=&#x27;object&#x27;...\n",
       "                               importance_type=None, interaction_constraints=&#x27;&#x27;,\n",
       "                               learning_rate=0.300000012, max_delta_step=0,\n",
       "                               max_depth=6, min_child_weight=1, missing=nan,\n",
       "                               monotone_constraints=&#x27;()&#x27;, n_estimators=100,\n",
       "                               n_jobs=8, num_parallel_tree=1, predictor=&#x27;auto&#x27;,\n",
       "                               random_state=42, reg_alpha=0, reg_lambda=1,\n",
       "                               scale_pos_weight=1, subsample=1,\n",
       "                               tree_method=&#x27;exact&#x27;, use_label_encoder=False,\n",
       "                               validate_parameters=1, verbosity=None))])</pre></div></div></div><div class=\"sk-serial\"><div class=\"sk-item sk-dashed-wrapped\"><div class=\"sk-label-container\"><div class=\"sk-label sk-toggleable\"><input class=\"sk-toggleable__control sk-hidden--visually\" id=\"sk-estimator-id-2\" type=\"checkbox\" ><label for=\"sk-estimator-id-2\" class=\"sk-toggleable__label sk-toggleable__label-arrow\">preprocess: ColumnTransformer</label><div class=\"sk-toggleable__content\"><pre>ColumnTransformer(transformers=[(&#x27;num&#x27;,\n",
       "                                 Pipeline(steps=[(&#x27;scaler&#x27;, MinMaxScaler())]),\n",
       "                                 Index([&#x27;family_size&#x27;, &#x27;winsorized_fare&#x27;, &#x27;fare_per_family_member&#x27;], dtype=&#x27;object&#x27;)),\n",
       "                                (&#x27;cat&#x27;,\n",
       "                                 Pipeline(steps=[(&#x27;onehot&#x27;,\n",
       "                                                  OneHotEncoder(handle_unknown=&#x27;ignore&#x27;))]),\n",
       "                                 Index([&#x27;passenger_class&#x27;, &#x27;gender&#x27;, &#x27;embarked_from&#x27;, &#x27;age_category&#x27;], dtype=&#x27;object&#x27;))])</pre></div></div></div><div class=\"sk-parallel\"><div class=\"sk-parallel-item\"><div class=\"sk-item\"><div class=\"sk-label-container\"><div class=\"sk-label sk-toggleable\"><input class=\"sk-toggleable__control sk-hidden--visually\" id=\"sk-estimator-id-3\" type=\"checkbox\" ><label for=\"sk-estimator-id-3\" class=\"sk-toggleable__label sk-toggleable__label-arrow\">num</label><div class=\"sk-toggleable__content\"><pre>Index([&#x27;family_size&#x27;, &#x27;winsorized_fare&#x27;, &#x27;fare_per_family_member&#x27;], dtype=&#x27;object&#x27;)</pre></div></div></div><div class=\"sk-serial\"><div class=\"sk-item\"><div class=\"sk-serial\"><div class=\"sk-item\"><div class=\"sk-estimator sk-toggleable\"><input class=\"sk-toggleable__control sk-hidden--visually\" id=\"sk-estimator-id-4\" type=\"checkbox\" ><label for=\"sk-estimator-id-4\" class=\"sk-toggleable__label sk-toggleable__label-arrow\">MinMaxScaler</label><div class=\"sk-toggleable__content\"><pre>MinMaxScaler()</pre></div></div></div></div></div></div></div></div><div class=\"sk-parallel-item\"><div class=\"sk-item\"><div class=\"sk-label-container\"><div class=\"sk-label sk-toggleable\"><input class=\"sk-toggleable__control sk-hidden--visually\" id=\"sk-estimator-id-5\" type=\"checkbox\" ><label for=\"sk-estimator-id-5\" class=\"sk-toggleable__label sk-toggleable__label-arrow\">cat</label><div class=\"sk-toggleable__content\"><pre>Index([&#x27;passenger_class&#x27;, &#x27;gender&#x27;, &#x27;embarked_from&#x27;, &#x27;age_category&#x27;], dtype=&#x27;object&#x27;)</pre></div></div></div><div class=\"sk-serial\"><div class=\"sk-item\"><div class=\"sk-serial\"><div class=\"sk-item\"><div class=\"sk-estimator sk-toggleable\"><input class=\"sk-toggleable__control sk-hidden--visually\" id=\"sk-estimator-id-6\" type=\"checkbox\" ><label for=\"sk-estimator-id-6\" class=\"sk-toggleable__label sk-toggleable__label-arrow\">OneHotEncoder</label><div class=\"sk-toggleable__content\"><pre>OneHotEncoder(handle_unknown=&#x27;ignore&#x27;)</pre></div></div></div></div></div></div></div></div></div></div><div class=\"sk-item\"><div class=\"sk-estimator sk-toggleable\"><input class=\"sk-toggleable__control sk-hidden--visually\" id=\"sk-estimator-id-7\" type=\"checkbox\" ><label for=\"sk-estimator-id-7\" class=\"sk-toggleable__label sk-toggleable__label-arrow\">XGBClassifier</label><div class=\"sk-toggleable__content\"><pre>XGBClassifier(base_score=0.5, booster=&#x27;gbtree&#x27;, colsample_bylevel=1,\n",
       "              colsample_bynode=1, colsample_bytree=1, enable_categorical=False,\n",
       "              eval_metric=&#x27;logloss&#x27;, gamma=0, gpu_id=-1, importance_type=None,\n",
       "              interaction_constraints=&#x27;&#x27;, learning_rate=0.300000012,\n",
       "              max_delta_step=0, max_depth=6, min_child_weight=1, missing=nan,\n",
       "              monotone_constraints=&#x27;()&#x27;, n_estimators=100, n_jobs=8,\n",
       "              num_parallel_tree=1, predictor=&#x27;auto&#x27;, random_state=42,\n",
       "              reg_alpha=0, reg_lambda=1, scale_pos_weight=1, subsample=1,\n",
       "              tree_method=&#x27;exact&#x27;, use_label_encoder=False,\n",
       "              validate_parameters=1, verbosity=None)</pre></div></div></div></div></div></div></div>"
      ],
      "text/plain": [
       "Pipeline(steps=[('preprocess',\n",
       "                 ColumnTransformer(transformers=[('num',\n",
       "                                                  Pipeline(steps=[('scaler',\n",
       "                                                                   MinMaxScaler())]),\n",
       "                                                  Index(['family_size', 'winsorized_fare', 'fare_per_family_member'], dtype='object')),\n",
       "                                                 ('cat',\n",
       "                                                  Pipeline(steps=[('onehot',\n",
       "                                                                   OneHotEncoder(handle_unknown='ignore'))]),\n",
       "                                                  Index(['passenger_class', 'gender', 'embarked_from', 'age_category'], dtype='object'...\n",
       "                               importance_type=None, interaction_constraints='',\n",
       "                               learning_rate=0.300000012, max_delta_step=0,\n",
       "                               max_depth=6, min_child_weight=1, missing=nan,\n",
       "                               monotone_constraints='()', n_estimators=100,\n",
       "                               n_jobs=8, num_parallel_tree=1, predictor='auto',\n",
       "                               random_state=42, reg_alpha=0, reg_lambda=1,\n",
       "                               scale_pos_weight=1, subsample=1,\n",
       "                               tree_method='exact', use_label_encoder=False,\n",
       "                               validate_parameters=1, verbosity=None))])"
      ]
     },
     "execution_count": 20,
     "metadata": {},
     "output_type": "execute_result"
    }
   ],
   "source": [
    "xgb_clf_v1 = XGBClassifier(random_state=42, use_label_encoder=False, eval_metric='logloss')\n",
    "\n",
    "pipeline_v1 = Pipeline([\n",
    "    ('preprocess', preprocessor),  \n",
    "    ('classifier', xgb_clf_v1)  \n",
    "])\n",
    "\n",
    "pipeline_v1.fit(X_train, y_train)"
   ]
  },
  {
   "cell_type": "code",
   "execution_count": 21,
   "metadata": {},
   "outputs": [
    {
     "data": {
      "text/plain": [
       "array(['passenger_class_first', 'passenger_class_second',\n",
       "       'passenger_class_third', 'gender_female', 'gender_male',\n",
       "       'embarked_from_cherbourg', 'embarked_from_queenstown',\n",
       "       'embarked_from_southampton', 'age_category_adult',\n",
       "       'age_category_child', 'age_category_elderly',\n",
       "       'age_category_teenager', 'age_category_young adult'], dtype=object)"
      ]
     },
     "execution_count": 21,
     "metadata": {},
     "output_type": "execute_result"
    }
   ],
   "source": [
    "pipeline_v1.named_steps['preprocess'].named_transformers_['cat'].named_steps['onehot'].get_feature_names_out(categorical_columns)"
   ]
  },
  {
   "cell_type": "markdown",
   "metadata": {},
   "source": [
    "### Predictions and Model Baseline Evaluation"
   ]
  },
  {
   "cell_type": "code",
   "execution_count": 22,
   "metadata": {},
   "outputs": [],
   "source": [
    "y_pred_v1 = pipeline_v1.predict(X_test)"
   ]
  },
  {
   "cell_type": "code",
   "execution_count": 23,
   "metadata": {},
   "outputs": [
    {
     "name": "stdout",
     "output_type": "stream",
     "text": [
      "              precision    recall  f1-score   support\n",
      "\n",
      "           0       0.86      0.89      0.88       114\n",
      "           1       0.80      0.75      0.78        65\n",
      "\n",
      "    accuracy                           0.84       179\n",
      "   macro avg       0.83      0.82      0.83       179\n",
      "weighted avg       0.84      0.84      0.84       179\n",
      "\n"
     ]
    }
   ],
   "source": [
    "from metrics import ClassificationPlots\n",
    "\n",
    "plots = ClassificationPlots()\n",
    "classification_report_str = plots.get_classification_report(y_test, y_pred_v1)\n",
    "print(classification_report_str)"
   ]
  },
  {
   "cell_type": "markdown",
   "metadata": {},
   "source": [
    "### Hyperparameter tunning"
   ]
  },
  {
   "cell_type": "code",
   "execution_count": 24,
   "metadata": {},
   "outputs": [],
   "source": [
    "xgb_clf_v2 = XGBClassifier(random_state=42, use_label_encoder=False, eval_metric='logloss')\n",
    "\n",
    "pipeline_v2 = Pipeline([\n",
    "    ('preprocess', preprocessor),  \n",
    "    ('classifier', xgb_clf_v2) \n",
    "])\n",
    "\n",
    "neg_to_pos_ratio = class_distribution[0] / class_distribution[1]\n",
    "\n",
    "param_grid = {\n",
    "    'classifier__learning_rate': [0.01, 0.05, 0.1, 0.3],\n",
    "    'classifier__max_depth': [3, 5, 7],  \n",
    "    'classifier__n_estimators': [50, 100, 150, 200],  \n",
    "    'classifier__scale_pos_weight': [1,2,5] # As there is a disbalanced in the target Survived Ratio: 0.38 and Non-Survived Ratio: 0.61\n",
    "}\n",
    "\n",
    "grid_search = GridSearchCV(\n",
    "    estimator=pipeline_v2,\n",
    "    param_grid=param_grid,\n",
    "    scoring='accuracy', \n",
    "    cv=5,  \n",
    "    n_jobs=-1,  \n",
    ")\n",
    "\n",
    "grid_search.fit(X_train, y_train) \n",
    "\n",
    "best_params = grid_search.best_params_\n",
    "best_model = grid_search.best_estimator_"
   ]
  },
  {
   "cell_type": "code",
   "execution_count": 25,
   "metadata": {},
   "outputs": [
    {
     "data": {
      "text/plain": [
       "{'classifier__learning_rate': 0.05,\n",
       " 'classifier__max_depth': 7,\n",
       " 'classifier__n_estimators': 100,\n",
       " 'classifier__scale_pos_weight': 1}"
      ]
     },
     "execution_count": 25,
     "metadata": {},
     "output_type": "execute_result"
    }
   ],
   "source": [
    "best_params"
   ]
  },
  {
   "cell_type": "code",
   "execution_count": 26,
   "metadata": {},
   "outputs": [],
   "source": [
    "y_pred = best_model.predict(X_test)\n",
    "y_pred_prob = best_model.predict_proba(X_test)[:, 1]"
   ]
  },
  {
   "cell_type": "markdown",
   "metadata": {},
   "source": [
    "### Model Performance Metrics"
   ]
  },
  {
   "cell_type": "code",
   "execution_count": 27,
   "metadata": {},
   "outputs": [
    {
     "name": "stdout",
     "output_type": "stream",
     "text": [
      "              precision    recall  f1-score   support\n",
      "\n",
      "           0       0.88      0.88      0.88       114\n",
      "           1       0.79      0.80      0.79        65\n",
      "\n",
      "    accuracy                           0.85       179\n",
      "   macro avg       0.84      0.84      0.84       179\n",
      "weighted avg       0.85      0.85      0.85       179\n",
      "\n"
     ]
    },
    {
     "data": {
      "image/png": "[encoded data removed]",
      "text/plain": [
       "<Figure size 800x600 with 1 Axes>"
      ]
     },
     "metadata": {},
     "output_type": "display_data"
    },
    {
     "data": {
      "image/png": "[encoded data removed]",
      "text/plain": [
       "<Figure size 800x600 with 1 Axes>"
      ]
     },
     "metadata": {},
     "output_type": "display_data"
    },
    {
     "data": {
      "image/png": "[encoded data removed]",
      "text/plain": [
       "<Figure size 600x400 with 1 Axes>"
      ]
     },
     "metadata": {},
     "output_type": "display_data"
    }
   ],
   "source": [
    "cr = plots.get_classification_report(y_test, y_pred)\n",
    "print(cr)\n",
    "plots.plot_roc_curve(y_test, y_pred_prob)\n",
    "plots.plot_precision_and_recall(y_test, y_pred_prob)\n",
    "plots.plot_confusion_matrix(y_test, y_pred)"
   ]
  },
  {
   "cell_type": "markdown",
   "metadata": {},
   "source": [
    "##### Confusion Matrix \n",
    "**Positive Class (Class 1): Survived passengers (encoded as 1)**\n",
    "**Negative Class (Class 0): Non-Survived passengers (encoded as 0)**\n",
    "\n",
    "- True Positive (TP): 52 passengers correctly predicted as survivors.\n",
    "- False Positive (FP): 14 passengers falsely predicted as non-survivors.\n",
    "- True Negative (TN): 100 passengers correctly predicted as non-survivors.\n",
    "- False Negative (FN): 13 passengers falsely predicted as survivors."
   ]
  },
  {
   "cell_type": "code",
   "execution_count": 28,
   "metadata": {},
   "outputs": [],
   "source": [
    "data_with_labels = pd.concat([X_test, y_test], axis=1)\n",
    "\n",
    "# Separate true labels for males and females\n",
    "y_true_male = data_with_labels[data_with_labels['gender'] == 'male']['survived']\n",
    "y_true_female = data_with_labels[data_with_labels['gender'] == 'female']['survived']"
   ]
  },
  {
   "cell_type": "code",
   "execution_count": 29,
   "metadata": {},
   "outputs": [],
   "source": [
    "gender_mask_male = X_test['gender'] == 'male'\n",
    "gender_mask_female = X_test['gender'] == 'female'\n",
    "y_pred_prob = best_model.predict_proba(X_test)\n",
    "\n",
    "# Separate the predicted probabilities for male and female passengers\n",
    "y_score_male = y_pred_prob[gender_mask_male, 1]  \n",
    "y_score_female = y_pred_prob[gender_mask_female, 1]  "
   ]
  },
  {
   "cell_type": "code",
   "execution_count": 30,
   "metadata": {},
   "outputs": [
    {
     "data": {
      "image/png": "[encoded data removed]",
      "text/plain": [
       "<Figure size 640x480 with 1 Axes>"
      ]
     },
     "metadata": {},
     "output_type": "display_data"
    }
   ],
   "source": [
    "from sklearn.metrics import roc_curve, auc\n",
    "import matplotlib.pyplot as plt\n",
    "\n",
    "fpr_male, tpr_male, _ = roc_curve(y_true_male, y_score_male)\n",
    "fpr_female, tpr_female, _ = roc_curve(y_true_female, y_score_female)\n",
    "\n",
    "roc_auc_male = auc(fpr_male, tpr_male)\n",
    "roc_auc_female = auc(fpr_female, tpr_female)\n",
    "\n",
    "plt.figure()\n",
    "plt.plot(fpr_male, tpr_male, color='blue', lw=2, label=f'Male ROC curve (AUC = {roc_auc_male:.2f})')\n",
    "plt.plot(fpr_female, tpr_female, color='red', lw=2, label=f'Female ROC curve (AUC = {roc_auc_female:.2f})')\n",
    "plt.plot([0, 1], [0, 1], color='gray', lw=1, linestyle='--')\n",
    "plt.xlim([0.0, 1.0])\n",
    "plt.ylim([0.0, 1.05])\n",
    "plt.xlabel('False Positive Rate')\n",
    "plt.ylabel('True Positive Rate')\n",
    "plt.title('ROC Curve')\n",
    "plt.legend(loc='lower right')\n",
    "plt.show()"
   ]
  },
  {
   "cell_type": "markdown",
   "metadata": {},
   "source": [
    "### Model Performance Metrics Analysis\n",
    "\n",
    "- The precision for class 0 (non-survivors) is 88%, and for class 1 (survivors) is 80%. This means that when the model predicts a passenger did not survive, it is correct 88% of the time, and when it predicts a passenger survived, it is correct 80% of the time.\n",
    "\n",
    "- The recall for class 0 is 89%, and for class 1 is 78%. This shows that the model is able to identify 88% of the non-survivors and 78% of the survivors correctly.\n",
    "\n",
    "- The support column shows that there were 114 non-survivors and 65 survivors in the test dataset.\n",
    "\n",
    "- As stratified was applied to avoid bias towards the prediction of female survival,  the AUC for fremale is 0.83 and the male is 0.73, the model has a better performance in distringuishing survival for females than males but the difference is not too big. \n",
    "\n",
    "- The overal gini value, calculated using the AUC score, is 0.74. This Gini value suggests that the model's predictions are considerably better than random guessing.\n",
    "\n",
    "- Class imbalance was addressed by using hyperparameters to adjust the weight of the minority class, ensuring that the model does not bias towards the majority class."
   ]
  },
  {
   "cell_type": "markdown",
   "metadata": {},
   "source": [
    "### Save Final Model and  Data Transformer"
   ]
  },
  {
   "cell_type": "code",
   "execution_count": 31,
   "metadata": {},
   "outputs": [],
   "source": [
    "import pickle\n",
    "import joblib\n",
    "\n",
    "with open('../api/model/survival_predictor.pkl', 'wb') as file:\n",
    "    pickle.dump(best_model, file)"
   ]
  },
  {
   "cell_type": "code",
   "execution_count": 32,
   "metadata": {},
   "outputs": [
    {
     "data": {
      "text/plain": [
       "['../api/model/onehot.pkl']"
      ]
     },
     "execution_count": 32,
     "metadata": {},
     "output_type": "execute_result"
    }
   ],
   "source": [
    "## Save the transformation to apply to other datasets in order to keep consistency in the data and being able to reproduce among other reasons. \n",
    "joblib.dump(pipeline_v2.named_steps['preprocess'].named_transformers_['num'].named_steps['scaler'], '../api/model/minmax_scaler.pkl')\n",
    "joblib.dump(pipeline_v2.named_steps['preprocess'].named_transformers_['cat'].named_steps['onehot'], '../api/model/onehot.pkl')"
   ]
  }
 ],
 "metadata": {
  "kernelspec": {
   "display_name": "data_science",
   "language": "python",
   "name": "python3"
  },
  "language_info": {
   "codemirror_mode": {
    "name": "ipython",
    "version": 3
   },
   "file_extension": ".py",
   "mimetype": "text/x-python",
   "name": "python",
   "nbconvert_exporter": "python",
   "pygments_lexer": "ipython3",
   "version": "3.10.9"
  },
  "orig_nbformat": 4
 },
 "nbformat": 4,
 "nbformat_minor": 2
}
